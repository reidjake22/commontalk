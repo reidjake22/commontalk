{
 "cells": [
  {
   "cell_type": "code",
   "execution_count": 1,
   "id": "d153057b",
   "metadata": {},
   "outputs": [
    {
     "name": "stderr",
     "output_type": "stream",
     "text": [
      "2025-08-07 18:24:49 [INFO] Members and parties data not found in the database. Downloading...\n"
     ]
    },
    {
     "name": "stdout",
     "output_type": "stream",
     "text": [
      "Fetching members with skip=0\n",
      "Fetching members with skip=1000\n",
      "Fetching members with skip=2000\n",
      "Fetching members with skip=3000\n",
      "Fetching members with skip=4000\n",
      "Fetching members with skip=5000\n"
     ]
    },
    {
     "name": "stderr",
     "output_type": "stream",
     "text": [
      "2025-08-07 18:25:30 [INFO] Downloaded 5191 members and 48 parties.\n"
     ]
    },
    {
     "name": "stdout",
     "output_type": "stream",
     "text": [
      "Found 58 debates.\n",
      "Processing debate 1/58: 51CF381C-7768-4230-BEF1-E7C1B097561B\n",
      "Processing debate 51/58: c4a7ccd5-b6cc-4f83-aadb-4a9ecc394411\n"
     ]
    },
    {
     "name": "stderr",
     "output_type": "stream",
     "text": [
      "2025-08-07 18:25:45 [INFO] Downloaded 58 debates and 1756 contributions.\n",
      "2025-08-07 18:25:46 [INFO] Debates and contributions data downloaded successfully.\n"
     ]
    }
   ],
   "source": [
    "import sys\n",
    "import os\n",
    "\n",
    "os.chdir(\"..\")\n",
    "from modules.data.download import download_data\n",
    "download_data(\"2025-07-01\", \"2025-07-01\")"
   ]
  }
 ],
 "metadata": {
  "kernelspec": {
   "display_name": ".venv",
   "language": "python",
   "name": "python3"
  },
  "language_info": {
   "codemirror_mode": {
    "name": "ipython",
    "version": 3
   },
   "file_extension": ".py",
   "mimetype": "text/x-python",
   "name": "python",
   "nbconvert_exporter": "python",
   "pygments_lexer": "ipython3",
   "version": "3.12.6"
  }
 },
 "nbformat": 4,
 "nbformat_minor": 5
}
