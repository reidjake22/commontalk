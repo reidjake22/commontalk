{
 "cells": [
  {
   "cell_type": "code",
   "execution_count": null,
   "id": "d153057b",
   "metadata": {},
   "outputs": [],
   "source": [
    "import sys\n",
    "import os\n",
    "\n",
    "os.chdir(\"..\")\n",
    "from modules.data.download import download_data\n",
    "download_data(\"2025-07-01\", \"2025-07-01\")"
   ]
  },
  {
   "cell_type": "code",
   "execution_count": 1,
   "id": "7fabc265",
   "metadata": {},
   "outputs": [],
   "source": [
    "import sys\n",
    "import os\n",
    "\n",
    "os.chdir(\"..\")\n",
    "\n",
    "from modules.points.generate import generate_points\n",
    "generate_points(batch_size=1)"
   ]
  }
 ],
 "metadata": {
  "kernelspec": {
   "display_name": ".venv",
   "language": "python",
   "name": "python3"
  },
  "language_info": {
   "codemirror_mode": {
    "name": "ipython",
    "version": 3
   },
   "file_extension": ".py",
   "mimetype": "text/x-python",
   "name": "python",
   "nbconvert_exporter": "python",
   "pygments_lexer": "ipython3",
   "version": "3.13.5"
  }
 },
 "nbformat": 4,
 "nbformat_minor": 5
}
