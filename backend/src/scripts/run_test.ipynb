{
 "cells": [
  {
   "cell_type": "code",
   "execution_count": 1,
   "id": "9749cc44",
   "metadata": {},
   "outputs": [],
   "source": [
    "from modules.utils.database_utils import get_db_connection\n",
    "\n",
    "conn = get_db_connection()"
   ]
  },
  {
   "cell_type": "code",
   "execution_count": null,
   "id": "7cbda13c",
   "metadata": {},
   "outputs": [],
   "source": []
  },
  {
   "cell_type": "code",
   "execution_count": 8,
   "id": "d153057b",
   "metadata": {},
   "outputs": [
    {
     "name": "stdout",
     "output_type": "stream",
     "text": [
      "Found 1617 debates.\n",
      "Found 0 left to scrape\n"
     ]
    }
   ],
   "source": [
    "import sys\n",
    "import os\n",
    "\n",
    "os.chdir(\"..\")\n",
    "from modules.data.download import download_data\n",
    "download_data(\"2025-06-01\", \"2025-08-01\")"
   ]
  },
  {
   "cell_type": "code",
   "execution_count": null,
   "id": "7fabc265",
   "metadata": {},
   "outputs": [
    {
     "name": "stdout",
     "output_type": "stream",
     "text": [
      "Analysed: 450 Unanalysed: 336\n",
      "Skipping contribution 44671162 - no member ID\n",
      "Skipping contribution 3312785 - no member ID\n",
      "Skipping contribution 44713761 - no member ID\n",
      "Skipping contribution 3316871 - no member ID\n",
      "Skipping contribution 44634618 - no member ID\n",
      "Skipping contribution 3309534 - no member ID\n"
     ]
    },
    {
     "name": "stderr",
     "output_type": "stream",
     "text": [
      "INFO:httpx:HTTP Request: POST https://api.groq.com/openai/v1/chat/completions \"HTTP/1.1 200 OK\"\n",
      "INFO:httpx:HTTP Request: POST https://api.groq.com/openai/v1/chat/completions \"HTTP/1.1 200 OK\"\n",
      "INFO:httpx:HTTP Request: POST https://api.groq.com/openai/v1/chat/completions \"HTTP/1.1 200 OK\"\n"
     ]
    },
    {
     "name": "stdout",
     "output_type": "stream",
     "text": [
      "Generating embedding for point: wants to know the steps the Department of Health is taking to tackle health inequalities across the country\n",
      "Generating embedding for point: wants to know the estimated number of additional jobs created in clean power industries in the north-east since July 2024\n",
      "Generating embedding for point: wants the Department to ensure areas with higher levels of deprivation, such as Newcastle-under-Lyme, receive adequate funding\n"
     ]
    },
    {
     "name": "stderr",
     "output_type": "stream",
     "text": [
      "INFO:httpx:HTTP Request: POST https://api.groq.com/openai/v1/chat/completions \"HTTP/1.1 200 OK\"\n",
      "INFO:httpx:HTTP Request: POST https://api.groq.com/openai/v1/chat/completions \"HTTP/1.1 200 OK\"\n",
      "INFO:httpx:HTTP Request: POST https://api.groq.com/openai/v1/chat/completions \"HTTP/1.1 200 OK\"\n"
     ]
    },
    {
     "name": "stdout",
     "output_type": "stream",
     "text": [
      "Generating embedding for point: residents of Pankhurst House and neighbouring blocks in Ealing Central and Acton are concerned about poor service from Clarion Housing\n",
      "Generating embedding for point: notes the Parliamentary and Health Service Ombudsman's report on Women's State Pension Age, which found maladministration in the Department for Work and Pensions' communication about the Pensions Act 1995\n",
      "Generating embedding for point: believes further education institutions are vital to the British economy\n"
     ]
    },
    {
     "name": "stderr",
     "output_type": "stream",
     "text": [
      "INFO:httpx:HTTP Request: POST https://api.openai.com/v1/embeddings \"HTTP/1.1 200 OK\"\n",
      "INFO:httpx:HTTP Request: POST https://api.openai.com/v1/embeddings \"HTTP/1.1 200 OK\"\n",
      "INFO:httpx:HTTP Request: POST https://api.openai.com/v1/embeddings \"HTTP/1.1 200 OK\"\n",
      "INFO:httpx:HTTP Request: POST https://api.openai.com/v1/embeddings \"HTTP/1.1 200 OK\"\n",
      "INFO:httpx:HTTP Request: POST https://api.openai.com/v1/embeddings \"HTTP/1.1 200 OK\"\n",
      "INFO:httpx:HTTP Request: POST https://api.openai.com/v1/embeddings \"HTTP/1.1 200 OK\"\n"
     ]
    },
    {
     "name": "stdout",
     "output_type": "stream",
     "text": [
      "Skipping contribution 44792295 - no member ID\n",
      "Generating embedding for point: thinks the previous Conservative Government cut further education funding too much\n",
      "Generating embedding for point: thousands of women born in the 1950s have suffered injustice due to the DWP's maladministration, resulting in loss of opportunities and financial control\n",
      "Generating embedding for point: repairs issues, such as a broken window, have not been addressed for years\n"
     ]
    },
    {
     "name": "stderr",
     "output_type": "stream",
     "text": [
      "INFO:httpx:HTTP Request: POST https://api.openai.com/v1/embeddings \"HTTP/1.1 200 OK\"\n",
      "INFO:httpx:HTTP Request: POST https://api.groq.com/openai/v1/chat/completions \"HTTP/1.1 200 OK\"\n",
      "INFO:httpx:HTTP Request: POST https://api.groq.com/openai/v1/chat/completions \"HTTP/1.1 200 OK\"\n",
      "INFO:httpx:HTTP Request: POST https://api.groq.com/openai/v1/chat/completions \"HTTP/1.1 200 OK\"\n"
     ]
    },
    {
     "name": "stdout",
     "output_type": "stream",
     "text": [
      "Generating embedding for point: residents are unhappy with opaque service charges and allocations policy\n",
      "Generating embedding for point: wants to know the estimated number of additional jobs created in clean power industries since July 2024\n",
      "Generating embedding for point: wants the Department to ensure areas with higher levels of deprivation receive adequate funding\n",
      "Generating embedding for point: wants to know the steps the Department of Health is taking to tackle health inequalities across the country\n"
     ]
    },
    {
     "name": "stderr",
     "output_type": "stream",
     "text": [
      "INFO:httpx:HTTP Request: POST https://api.openai.com/v1/embeddings \"HTTP/1.1 200 OK\"\n",
      "INFO:httpx:HTTP Request: POST https://api.openai.com/v1/embeddings \"HTTP/1.1 200 OK\"\n",
      "INFO:httpx:HTTP Request: POST https://api.openai.com/v1/embeddings \"HTTP/1.1 200 OK\"\n",
      "INFO:httpx:HTTP Request: POST https://api.openai.com/v1/embeddings \"HTTP/1.1 200 OK\"\n",
      "INFO:httpx:HTTP Request: POST https://api.openai.com/v1/embeddings \"HTTP/1.1 200 OK\"\n",
      "INFO:httpx:HTTP Request: POST https://api.openai.com/v1/embeddings \"HTTP/1.1 200 OK\"\n"
     ]
    },
    {
     "name": "stdout",
     "output_type": "stream",
     "text": [
      "Generating embedding for point: is concerned that spending on adult skills and apprenticeships is 23% lower than in 2009-10\n"
     ]
    },
    {
     "name": "stderr",
     "output_type": "stream",
     "text": [
      "INFO:httpx:HTTP Request: POST https://api.openai.com/v1/embeddings \"HTTP/1.1 200 OK\"\n"
     ]
    },
    {
     "name": "stdout",
     "output_type": "stream",
     "text": [
      "Generating embedding for point: residents feel the area is becoming a 'dumping ground' for undesirables, rather than the original intention of women's keyworker accommodation\n",
      "Generating embedding for point: the DWP's failure to properly communicate changes to the state pension age has had a significant impact on women, who were already disadvantaged and discriminated against\n",
      "Generating embedding for point: wants more Government support for further education institutions, such as Shipley college\n"
     ]
    },
    {
     "name": "stderr",
     "output_type": "stream",
     "text": [
      "INFO:httpx:HTTP Request: POST https://api.groq.com/openai/v1/chat/completions \"HTTP/1.1 200 OK\"\n",
      "INFO:httpx:HTTP Request: POST https://api.openai.com/v1/embeddings \"HTTP/1.1 200 OK\"\n",
      "INFO:httpx:HTTP Request: POST https://api.groq.com/openai/v1/chat/completions \"HTTP/1.1 200 OK\"\n",
      "INFO:httpx:HTTP Request: POST https://api.openai.com/v1/embeddings \"HTTP/1.1 200 OK\"\n",
      "INFO:httpx:HTTP Request: POST https://api.groq.com/openai/v1/chat/completions \"HTTP/1.1 200 OK\"\n"
     ]
    },
    {
     "name": "stdout",
     "output_type": "stream",
     "text": [
      "Generating embedding for point: wants to know the estimated number of additional jobs created in clean power industries since July 2024\n",
      "Generating embedding for point: petitioners request the Government to work with the Council to compel Clarion to: listen to concerns, increase transparency in service charges, improve the allocations system, and provide a better balance of tenants\n",
      "Generating embedding for point: The Government is committed to distributing central funding fairly to deprived areas, with proposed reforms aiming to give larger increases in income to the most relatively deprived places, such as those targeted by the £600 million recovery grant and the fair funding review 2.0 consultation\n",
      "Generating embedding for point: values the contributions of colleges like Shipley college, which provide skills training and partner with local organisations like Bradford Royal Infirmary\n",
      "Generating embedding for point: The Government's 10-year health plan aims to reduce health inequalities by allocating resources based on need, not ability to pay\n"
     ]
    },
    {
     "name": "stderr",
     "output_type": "stream",
     "text": [
      "INFO:httpx:HTTP Request: POST https://api.openai.com/v1/embeddings \"HTTP/1.1 200 OK\"\n",
      "INFO:httpx:HTTP Request: POST https://api.openai.com/v1/embeddings \"HTTP/1.1 200 OK\"\n",
      "INFO:httpx:HTTP Request: POST https://api.openai.com/v1/embeddings \"HTTP/1.1 200 OK\"\n",
      "INFO:httpx:HTTP Request: POST https://api.openai.com/v1/embeddings \"HTTP/1.1 200 OK\"\n",
      "INFO:httpx:HTTP Request: POST https://api.openai.com/v1/embeddings \"HTTP/1.1 200 OK\"\n",
      "INFO:httpx:HTTP Request: POST https://api.openai.com/v1/embeddings \"HTTP/1.1 200 OK\"\n",
      "INFO:httpx:HTTP Request: POST https://api.groq.com/openai/v1/chat/completions \"HTTP/1.1 200 OK\"\n"
     ]
    },
    {
     "name": "stdout",
     "output_type": "stream",
     "text": [
      "Generating embedding for point: The Labour Government will protect the NHS as a service free at the point of use and rebuild it to make it fit for the future\n",
      "Generating embedding for point: the Government's response to the ombudsman's report was inadequate, with no redress forthcoming despite an apology for maladministration\n",
      "Generating embedding for point: wants to know the estimated number of additional jobs created in clean power industries since July 2024\n"
     ]
    },
    {
     "name": "stderr",
     "output_type": "stream",
     "text": [
      "INFO:httpx:HTTP Request: POST https://api.openai.com/v1/embeddings \"HTTP/1.1 200 OK\"\n"
     ]
    },
    {
     "name": "stdout",
     "output_type": "stream",
     "text": [
      "Debate 09AF96B6-DD76-441C-9AAD-4905086CCBFE marked as analysed.\n",
      "335/336 debates left to analyse\n"
     ]
    },
    {
     "name": "stderr",
     "output_type": "stream",
     "text": [
      "INFO:httpx:HTTP Request: POST https://api.openai.com/v1/embeddings \"HTTP/1.1 200 OK\"\n",
      "INFO:httpx:HTTP Request: POST https://api.groq.com/openai/v1/chat/completions \"HTTP/1.1 200 OK\"\n",
      "INFO:httpx:HTTP Request: POST https://api.openai.com/v1/embeddings \"HTTP/1.1 200 OK\"\n",
      "INFO:httpx:HTTP Request: POST https://api.groq.com/openai/v1/chat/completions \"HTTP/1.1 200 OK\"\n"
     ]
    },
    {
     "name": "stdout",
     "output_type": "stream",
     "text": [
      "Generating embedding for point: believes more support is needed for young adult carers in further education settings, particularly those caring for a parent or being a parent themselves, to help them achieve educational standards\n",
      "Generating embedding for point: calls for the Government to provide a remedy for the women who have suffered injustice, as requested by the Parliamentary and Health Service Ombudsman\n",
      "Generating embedding for point: concerned about health inequality and lower life expectancy in Newcastle-under-Lyme, particularly in areas like Silverdale, Knutton and Cross Heath, and wants to discuss support with the Minister to address this issue\n"
     ]
    },
    {
     "name": "stderr",
     "output_type": "stream",
     "text": [
      "INFO:httpx:HTTP Request: POST https://api.openai.com/v1/embeddings \"HTTP/1.1 200 OK\"\n",
      "INFO:httpx:HTTP Request: POST https://api.groq.com/openai/v1/chat/completions \"HTTP/1.1 200 OK\"\n",
      "INFO:httpx:HTTP Request: POST https://api.groq.com/openai/v1/chat/completions \"HTTP/1.1 200 OK\"\n",
      "INFO:httpx:HTTP Request: POST https://api.openai.com/v1/embeddings \"HTTP/1.1 200 OK\"\n",
      "INFO:httpx:HTTP Request: POST https://api.openai.com/v1/embeddings \"HTTP/1.1 200 OK\"\n",
      "INFO:httpx:HTTP Request: POST https://api.groq.com/openai/v1/chat/completions \"HTTP/1.1 200 OK\"\n"
     ]
    },
    {
     "name": "stdout",
     "output_type": "stream",
     "text": [
      "Generating embedding for point: Government claims clean power investments have created thousands of jobs in the UK, specifically in nuclear (Sizewell C and small modular reactors), carbon capture and storage, offshore wind, and home heating (warm homes plan)\n",
      "Generating embedding for point: wants to know the steps the Church of England is taking to support community cohesion in its parishes\n"
     ]
    },
    {
     "name": "stderr",
     "output_type": "stream",
     "text": [
      "INFO:httpx:HTTP Request: POST https://api.groq.com/openai/v1/chat/completions \"HTTP/1.1 200 OK\"\n",
      "INFO:httpx:HTTP Request: POST https://api.openai.com/v1/embeddings \"HTTP/1.1 200 OK\"\n",
      "INFO:httpx:HTTP Request: POST https://api.openai.com/v1/embeddings \"HTTP/1.1 200 OK\"\n"
     ]
    },
    {
     "name": "stdout",
     "output_type": "stream",
     "text": [
      "Generating embedding for point: Carn to Coast GP surgeries in Camborne, Redruth and Hayle are struggling due to health inequalities and deprivation\n"
     ]
    },
    {
     "name": "stderr",
     "output_type": "stream",
     "text": [
      "INFO:httpx:HTTP Request: POST https://api.groq.com/openai/v1/chat/completions \"HTTP/1.1 200 OK\"\n",
      "INFO:httpx:HTTP Request: POST https://api.groq.com/openai/v1/chat/completions \"HTTP/1.1 200 OK\"\n",
      "INFO:httpx:HTTP Request: POST https://api.groq.com/openai/v1/chat/completions \"HTTP/1.1 200 OK\"\n",
      "INFO:httpx:HTTP Request: POST https://api.openai.com/v1/embeddings \"HTTP/1.1 200 OK\"\n"
     ]
    },
    {
     "name": "stdout",
     "output_type": "stream",
     "text": [
      "Generating embedding for point: believes deprived areas need investment to reach full potential\n",
      "Generating embedding for point: concerned about the distress caused to WASPI women in Gosport due to lack of notification about changes to state pension age\n",
      "Generating embedding for point: further education colleges need significant investment to upgrade buildings and technology\n",
      "Generating embedding for point: requests the Secretary of State to visit a Carn to Coast health centre in Cornwall to discuss how reforms can support health outcomes in deprived areas\n"
     ]
    },
    {
     "name": "stderr",
     "output_type": "stream",
     "text": [
      "INFO:httpx:HTTP Request: POST https://api.groq.com/openai/v1/chat/completions \"HTTP/1.1 200 OK\"\n",
      "INFO:httpx:HTTP Request: POST https://api.groq.com/openai/v1/chat/completions \"HTTP/1.1 200 OK\"\n",
      "INFO:httpx:HTTP Request: POST https://api.openai.com/v1/embeddings \"HTTP/1.1 200 OK\"\n"
     ]
    },
    {
     "name": "stdout",
     "output_type": "stream",
     "text": [
      "Generating embedding for point: wants the clean energy sector plan to provide long-term certainty for investment and deliver good quality jobs in the north-east, particularly in Cramlington and Killingworth constituency\n",
      "Generating embedding for point: wants to know the steps the Church of England is taking to support community cohesion in its parishes\n"
     ]
    },
    {
     "name": "stderr",
     "output_type": "stream",
     "text": [
      "INFO:httpx:HTTP Request: POST https://api.openai.com/v1/embeddings \"HTTP/1.1 200 OK\"\n",
      "INFO:httpx:HTTP Request: POST https://api.openai.com/v1/embeddings \"HTTP/1.1 200 OK\"\n"
     ]
    },
    {
     "name": "stdout",
     "output_type": "stream",
     "text": [
      "Generating embedding for point: thinks previous government's funding decisions impoverished councils in deprived communities\n"
     ]
    },
    {
     "name": "stderr",
     "output_type": "stream",
     "text": [
      "INFO:httpx:HTTP Request: POST https://api.openai.com/v1/embeddings \"HTTP/1.1 200 OK\"\n",
      "INFO:httpx:HTTP Request: POST https://api.openai.com/v1/embeddings \"HTTP/1.1 200 OK\"\n"
     ]
    },
    {
     "name": "stdout",
     "output_type": "stream",
     "text": [
      "Generating embedding for point: colleges' ability to borrow money has been removed since being brought back into public ownership\n",
      "Generating embedding for point: believes the Government should provide financial support to WASPI women who have struggled as a result of the decision\n"
     ]
    },
    {
     "name": "stderr",
     "output_type": "stream",
     "text": [
      "INFO:httpx:HTTP Request: POST https://api.openai.com/v1/embeddings \"HTTP/1.1 200 OK\"\n",
      "INFO:httpx:HTTP Request: POST https://api.openai.com/v1/embeddings \"HTTP/1.1 200 OK\"\n",
      "INFO:httpx:HTTP Request: POST https://api.openai.com/v1/embeddings \"HTTP/1.1 200 OK\"\n",
      "INFO:httpx:HTTP Request: POST https://api.openai.com/v1/embeddings \"HTTP/1.1 200 OK\"\n",
      "INFO:httpx:HTTP Request: POST https://api.groq.com/openai/v1/chat/completions \"HTTP/1.1 200 OK\"\n",
      "INFO:httpx:HTTP Request: POST https://api.groq.com/openai/v1/chat/completions \"HTTP/1.1 200 OK\"\n"
     ]
    },
    {
     "name": "stdout",
     "output_type": "stream",
     "text": [
      "Generating embedding for point: supports fair funding for local authorities in deprived areas\n",
      "Generating embedding for point: the process of seeking permission from the Department for Education to borrow money is slow\n",
      "Generating embedding for point: criticizes the Government for not addressing maladministration found in the PHSO report and not providing adequate support to affected women\n",
      "Generating embedding for point: the Church of England's parish system can help build trust and understanding in communities through long-term relationships and collaboration with local authorities and organisations\n",
      "Generating embedding for point: believes the north-east can be a hub for clean energy jobs\n"
     ]
    },
    {
     "name": "stderr",
     "output_type": "stream",
     "text": [
      "INFO:httpx:HTTP Request: POST https://api.openai.com/v1/embeddings \"HTTP/1.1 200 OK\"\n",
      "INFO:httpx:HTTP Request: POST https://api.openai.com/v1/embeddings \"HTTP/1.1 200 OK\"\n",
      "INFO:httpx:HTTP Request: POST https://api.openai.com/v1/embeddings \"HTTP/1.1 200 OK\"\n",
      "INFO:httpx:HTTP Request: POST https://api.openai.com/v1/embeddings \"HTTP/1.1 200 OK\"\n"
     ]
    },
    {
     "name": "stdout",
     "output_type": "stream",
     "text": [
      "Generating embedding for point: there is a shortage of skilled workers, with a projected loss of £120 billion by 2030\n"
     ]
    },
    {
     "name": "stderr",
     "output_type": "stream",
     "text": [
      "INFO:httpx:HTTP Request: POST https://api.groq.com/openai/v1/chat/completions \"HTTP/1.1 200 OK\"\n"
     ]
    },
    {
     "name": "stdout",
     "output_type": "stream",
     "text": [
      "Generating embedding for point: thinks the east coast carbon capture, usage and storage cluster will create thousands of jobs in the north-east\n",
      "Generating embedding for point: commits to addressing health inequalities between the poorest and wealthiest parts of the country\n"
     ]
    },
    {
     "name": "stderr",
     "output_type": "stream",
     "text": [
      "INFO:httpx:HTTP Request: POST https://api.openai.com/v1/embeddings \"HTTP/1.1 200 OK\"\n",
      "INFO:httpx:HTTP Request: POST https://api.groq.com/openai/v1/chat/completions \"HTTP/1.1 200 OK\"\n",
      "INFO:httpx:HTTP Request: POST https://api.openai.com/v1/embeddings \"HTTP/1.1 200 OK\"\n",
      "INFO:httpx:HTTP Request: POST https://api.openai.com/v1/embeddings \"HTTP/1.1 200 OK\"\n"
     ]
    },
    {
     "name": "stdout",
     "output_type": "stream",
     "text": [
      "Generating embedding for point: further education funding cuts have contributed to a lack of digital and tech skills in local areas, such as Saltaire\n",
      "Generating embedding for point: concerned about theft of copper from church roofs, such as St Andrew & St George in Stevenage, and wants to know how to safeguard churches from antisocial and criminal behaviour\n",
      "Generating embedding for point: notes that the gap in health between the poorest and wealthiest areas has widened\n"
     ]
    },
    {
     "name": "stderr",
     "output_type": "stream",
     "text": [
      "INFO:httpx:HTTP Request: POST https://api.groq.com/openai/v1/chat/completions \"HTTP/1.1 200 OK\"\n",
      "INFO:httpx:HTTP Request: POST https://api.openai.com/v1/embeddings \"HTTP/1.1 200 OK\"\n",
      "INFO:httpx:HTTP Request: POST https://api.openai.com/v1/embeddings \"HTTP/1.1 200 OK\"\n"
     ]
    },
    {
     "name": "stdout",
     "output_type": "stream",
     "text": [
      "Generating embedding for point: thinks the Government's response to the ombudsman's report on Women's State Pension Age is misinformed\n"
     ]
    },
    {
     "name": "stderr",
     "output_type": "stream",
     "text": [
      "INFO:httpx:HTTP Request: POST https://api.openai.com/v1/embeddings \"HTTP/1.1 200 OK\"\n",
      "INFO:httpx:HTTP Request: POST https://api.groq.com/openai/v1/chat/completions \"HTTP/1.1 200 OK\"\n",
      "INFO:httpx:HTTP Request: POST https://api.openai.com/v1/embeddings \"HTTP/1.1 200 OK\"\n"
     ]
    },
    {
     "name": "stdout",
     "output_type": "stream",
     "text": [
      "Generating embedding for point: further education colleges can drive productivity gains in key sectors with the right support\n"
     ]
    },
    {
     "name": "stderr",
     "output_type": "stream",
     "text": [
      "INFO:httpx:HTTP Request: POST https://api.openai.com/v1/embeddings \"HTTP/1.1 200 OK\"\n"
     ]
    },
    {
     "name": "stdout",
     "output_type": "stream",
     "text": [
      "Generating embedding for point: highlights challenges in general practice, including 300 more patients per GP in poorer communities\n",
      "Generating embedding for point: wants the Secretary of State to support supply chain businesses in Cornwall, particularly small and medium-sized ones, to help local workers and communities benefit from the extraction of critical minerals and offshore wind power\n",
      "Generating embedding for point: believes cost should not be a barrier to addressing injustice for women affected by state pension age changes\n"
     ]
    },
    {
     "name": "stderr",
     "output_type": "stream",
     "text": [
      "INFO:httpx:HTTP Request: POST https://api.openai.com/v1/embeddings \"HTTP/1.1 200 OK\"\n",
      "INFO:httpx:HTTP Request: POST https://api.openai.com/v1/embeddings \"HTTP/1.1 200 OK\"\n",
      "INFO:httpx:HTTP Request: POST https://api.groq.com/openai/v1/chat/completions \"HTTP/1.1 200 OK\"\n",
      "INFO:httpx:HTTP Request: POST https://api.groq.com/openai/v1/chat/completions \"HTTP/1.1 200 OK\"\n",
      "INFO:httpx:HTTP Request: POST https://api.openai.com/v1/embeddings \"HTTP/1.1 200 OK\"\n"
     ]
    },
    {
     "name": "stdout",
     "output_type": "stream",
     "text": [
      "Generating embedding for point: argues that the Government's statistics on the issue are misquoted and do not reflect the experiences of impacted women\n",
      "Generating embedding for point: congratulates Rev. Canon Jenny Gray on her retirement and her service to the community\n"
     ]
    },
    {
     "name": "stderr",
     "output_type": "stream",
     "text": [
      "INFO:httpx:HTTP Request: POST https://api.groq.com/openai/v1/chat/completions \"HTTP/1.1 200 OK\"\n",
      "INFO:httpx:HTTP Request: POST https://api.openai.com/v1/embeddings \"HTTP/1.1 200 OK\"\n"
     ]
    },
    {
     "name": "stdout",
     "output_type": "stream",
     "text": [
      "Generating embedding for point: wants the Minister to consider including Chapeltown, High Green, and Dodworth in the neighbourhood-level investment plan as they are among the most deprived communities in the country\n",
      "Generating embedding for point: will review the Carr-Hill formula to ensure it works for general practice, particularly in rural and coastal areas with higher deprivation\n",
      "Generating embedding for point: supports further education institutions, such as North West regional college and Northern regional college, in providing apprenticeships, particularly for disadvantaged communities in Northern Ireland\n"
     ]
    },
    {
     "name": "stderr",
     "output_type": "stream",
     "text": [
      "INFO:httpx:HTTP Request: POST https://api.openai.com/v1/embeddings \"HTTP/1.1 200 OK\"\n"
     ]
    },
    {
     "name": "stdout",
     "output_type": "stream",
     "text": [
      "Generating embedding for point: claims that the Department for Work and Pensions (DWP) failed to adequately inform women about changes to their state pension age\n",
      "Generating embedding for point: agrees that metal theft is a criminal and antisocial behaviour that causes harm\n"
     ]
    },
    {
     "name": "stderr",
     "output_type": "stream",
     "text": [
      "INFO:httpx:HTTP Request: POST https://api.openai.com/v1/embeddings \"HTTP/1.1 200 OK\"\n",
      "INFO:httpx:HTTP Request: POST https://api.openai.com/v1/embeddings \"HTTP/1.1 200 OK\"\n",
      "INFO:httpx:HTTP Request: POST https://api.openai.com/v1/embeddings \"HTTP/1.1 200 OK\"\n",
      "INFO:httpx:HTTP Request: POST https://api.openai.com/v1/embeddings \"HTTP/1.1 200 OK\"\n",
      "INFO:httpx:HTTP Request: POST https://api.openai.com/v1/embeddings \"HTTP/1.1 200 OK\"\n",
      "INFO:httpx:HTTP Request: POST https://api.openai.com/v1/embeddings \"HTTP/1.1 200 OK\"\n"
     ]
    },
    {
     "name": "stdout",
     "output_type": "stream",
     "text": [
      "Generating embedding for point: points to research showing that many women were unaware of the changes to their state pension age, including a 2003 DWP study and a 2011 Age UK focus group study\n",
      "Generating embedding for point: notes the Church has been working on the issue of metal theft since 2013\n"
     ]
    },
    {
     "name": "stderr",
     "output_type": "stream",
     "text": [
      "INFO:httpx:HTTP Request: POST https://api.groq.com/openai/v1/chat/completions \"HTTP/1.1 200 OK\"\n",
      "INFO:httpx:HTTP Request: POST https://api.groq.com/openai/v1/chat/completions \"HTTP/1.1 200 OK\"\n",
      "INFO:httpx:HTTP Request: POST https://api.groq.com/openai/v1/chat/completions \"HTTP/1.1 200 OK\"\n",
      "INFO:httpx:HTTP Request: POST https://api.openai.com/v1/embeddings \"HTTP/1.1 200 OK\"\n"
     ]
    },
    {
     "name": "stdout",
     "output_type": "stream",
     "text": [
      "Generating embedding for point: there is a 19-year life expectancy gap between men in Notting Dale and Holland Park in Kensington and Bayswater, and the gap is growing\n"
     ]
    },
    {
     "name": "stderr",
     "output_type": "stream",
     "text": [
      "INFO:httpx:HTTP Request: POST https://api.openai.com/v1/embeddings \"HTTP/1.1 200 OK\"\n",
      "INFO:httpx:HTTP Request: POST https://api.groq.com/openai/v1/chat/completions \"HTTP/1.1 200 OK\"\n"
     ]
    },
    {
     "name": "stdout",
     "output_type": "stream",
     "text": [
      "Generating embedding for point: believes Cornwall has opportunities for jobs in the future through clean power, specifically critical minerals, geothermal and offshore wind, and will be a key part of the clean energy workforce strategy\n",
      "Generating embedding for point: supports FE college apprenticeships for disadvantaged children\n",
      "Generating embedding for point: criticises the DWP for failing to respond to feedback and research on the issue, despite warnings from the Work and Pensions Committee and the National Audit Office\n"
     ]
    },
    {
     "name": "stderr",
     "output_type": "stream",
     "text": [
      "INFO:httpx:HTTP Request: POST https://api.openai.com/v1/embeddings \"HTTP/1.1 200 OK\"\n"
     ]
    },
    {
     "name": "stdout",
     "output_type": "stream",
     "text": [
      "Generating embedding for point: believes the Government's fund will provide seed investment to deprived areas to rebuild and address the impact of 14 years of austerity under the previous Government\n",
      "Generating embedding for point: Department of Health should take steps to address high health inequality in inner-city areas like Kensington\n"
     ]
    },
    {
     "name": "stderr",
     "output_type": "stream",
     "text": [
      "INFO:httpx:HTTP Request: POST https://api.openai.com/v1/embeddings \"HTTP/1.1 200 OK\"\n",
      "INFO:httpx:HTTP Request: POST https://api.openai.com/v1/embeddings \"HTTP/1.1 200 OK\"\n",
      "INFO:httpx:HTTP Request: POST https://api.groq.com/openai/v1/chat/completions \"HTTP/1.1 200 OK\"\n",
      "INFO:httpx:HTTP Request: POST https://api.openai.com/v1/embeddings \"HTTP/1.1 200 OK\"\n",
      "INFO:httpx:HTTP Request: POST https://api.openai.com/v1/embeddings \"HTTP/1.1 200 OK\"\n",
      "INFO:httpx:HTTP Request: POST https://api.openai.com/v1/embeddings \"HTTP/1.1 200 OK\"\n"
     ]
    },
    {
     "name": "stdout",
     "output_type": "stream",
     "text": [
      "Generating embedding for point: wants the Church Commissioners to strengthen their work on integration and community cohesion in areas like Hyndburn, particularly in response to riots and in line with the Government's community cohesion strategy following the immigration White Paper\n",
      "Generating embedding for point: welcomes Labour Government's commitment to equipping workforce with skills through Skills England\n",
      "Generating embedding for point: thinks the fund will help provide fair funding for local authorities in deprived areas\n"
     ]
    },
    {
     "name": "stderr",
     "output_type": "stream",
     "text": [
      "INFO:httpx:HTTP Request: POST https://api.openai.com/v1/embeddings \"HTTP/1.1 200 OK\"\n",
      "INFO:httpx:HTTP Request: POST https://api.openai.com/v1/embeddings \"HTTP/1.1 200 OK\"\n",
      "INFO:httpx:HTTP Request: POST https://api.groq.com/openai/v1/chat/completions \"HTTP/1.1 200 OK\"\n",
      "INFO:httpx:HTTP Request: POST https://api.groq.com/openai/v1/chat/completions \"HTTP/1.1 200 OK\"\n",
      "INFO:httpx:HTTP Request: POST https://api.openai.com/v1/embeddings \"HTTP/1.1 200 OK\"\n",
      "INFO:httpx:HTTP Request: POST https://api.groq.com/openai/v1/chat/completions \"HTTP/1.1 200 OK\"\n"
     ]
    },
    {
     "name": "stdout",
     "output_type": "stream",
     "text": [
      "Generating embedding for point: thinks the investment in clean energy will create thousands of job opportunities for young people in areas like Harlow, particularly in renewable energies, nuclear, and energy efficiency\n",
      "Generating embedding for point: thinks Skills England should facilitate partnerships between colleges and employers\n",
      "Generating embedding for point: criticizes the DWP for refusing to comply with the ombudsman's recommendations on women's state pension age financial redress\n",
      "Generating embedding for point: credits the resilience of communities in deprived areas for withstanding previous Government's policies\n",
      "Generating embedding for point: Government should address health inequalities by making funding follow need and tackling deprivation\n"
     ]
    },
    {
     "name": "stderr",
     "output_type": "stream",
     "text": [
      "INFO:httpx:HTTP Request: POST https://api.openai.com/v1/embeddings \"HTTP/1.1 200 OK\"\n",
      "INFO:httpx:HTTP Request: POST https://api.groq.com/openai/v1/chat/completions \"HTTP/1.1 200 OK\"\n",
      "INFO:httpx:HTTP Request: POST https://api.openai.com/v1/embeddings \"HTTP/1.1 200 OK\"\n",
      "INFO:httpx:HTTP Request: POST https://api.openai.com/v1/embeddings \"HTTP/1.1 200 OK\"\n",
      "INFO:httpx:HTTP Request: POST https://api.openai.com/v1/embeddings \"HTTP/1.1 200 OK\"\n",
      "INFO:httpx:HTTP Request: POST https://api.openai.com/v1/embeddings \"HTTP/1.1 200 OK\"\n"
     ]
    },
    {
     "name": "stdout",
     "output_type": "stream",
     "text": [
      "Generating embedding for point: commends social cohesion work and faith organisations' collaborative efforts during riots\n",
      "Generating embedding for point: believes the DWP's actions are an example of 'officialdom closing ranks'\n",
      "Generating embedding for point: neighbourhood health approach should proactively work in communities with highest level of need, including areas with pockets of deprivation\n",
      "Generating embedding for point: believes local areas and colleges should be empowered to tailor provision to local labour market needs\n"
     ]
    },
    {
     "name": "stderr",
     "output_type": "stream",
     "text": [
      "INFO:httpx:HTTP Request: POST https://api.openai.com/v1/embeddings \"HTTP/1.1 200 OK\"\n",
      "INFO:httpx:HTTP Request: POST https://api.groq.com/openai/v1/chat/completions \"HTTP/1.1 200 OK\"\n",
      "INFO:httpx:HTTP Request: POST https://api.openai.com/v1/embeddings \"HTTP/1.1 200 OK\"\n",
      "INFO:httpx:HTTP Request: POST https://api.groq.com/openai/v1/chat/completions \"HTTP/1.1 200 OK\"\n",
      "INFO:httpx:HTTP Request: POST https://api.openai.com/v1/embeddings \"HTTP/1.1 200 OK\"\n",
      "INFO:httpx:HTTP Request: POST https://api.openai.com/v1/embeddings \"HTTP/1.1 200 OK\"\n"
     ]
    },
    {
     "name": "stdout",
     "output_type": "stream",
     "text": [
      "Generating embedding for point: supports green jobs and skills training, particularly for constituents in Harlow\n",
      "Generating embedding for point: calls for a more holistic integration strategy as suggested by the Church in discussions with the Minister for Faith\n",
      "Generating embedding for point: social determinants of ill health include poverty, lack of good work, damp housing, dirty air, and limited access to affordable culture and leisure opportunities\n",
      "Generating embedding for point: believes deprivation in rural areas, such as North Dorset, should be addressed through taxes, regardless of urban vs rural or north vs south divisions\n"
     ]
    },
    {
     "name": "stderr",
     "output_type": "stream",
     "text": [
      "INFO:httpx:HTTP Request: POST https://api.openai.com/v1/embeddings \"HTTP/1.1 200 OK\"\n",
      "INFO:httpx:HTTP Request: POST https://api.openai.com/v1/embeddings \"HTTP/1.1 200 OK\"\n",
      "INFO:httpx:HTTP Request: POST https://api.openai.com/v1/embeddings \"HTTP/1.1 200 OK\"\n",
      "INFO:httpx:HTTP Request: POST https://api.openai.com/v1/embeddings \"HTTP/1.1 200 OK\"\n",
      "INFO:httpx:HTTP Request: POST https://api.groq.com/openai/v1/chat/completions \"HTTP/1.1 200 OK\"\n",
      "INFO:httpx:HTTP Request: POST https://api.groq.com/openai/v1/chat/completions \"HTTP/1.1 200 OK\"\n"
     ]
    },
    {
     "name": "stdout",
     "output_type": "stream",
     "text": [
      "Generating embedding for point: believes Institutes of Technology can play a valuable role in workforce development, particularly in the defence sector\n",
      "Generating embedding for point: congratulates TK Murray Ltd, an energy-saving contractor in Kilsyth, for cross-training staff to install air source heat pump technology, creating green jobs with the help of Warmworks\n"
     ]
    },
    {
     "name": "stderr",
     "output_type": "stream",
     "text": [
      "INFO:httpx:HTTP Request: POST https://api.groq.com/openai/v1/chat/completions \"HTTP/1.1 200 OK\"\n",
      "INFO:httpx:HTTP Request: POST https://api.groq.com/openai/v1/chat/completions \"HTTP/1.1 200 OK\"\n",
      "INFO:httpx:HTTP Request: POST https://api.groq.com/openai/v1/chat/completions \"HTTP/1.1 200 OK\"\n",
      "INFO:httpx:HTTP Request: POST https://api.openai.com/v1/embeddings \"HTTP/1.1 200 OK\"\n",
      "INFO:httpx:HTTP Request: POST https://api.openai.com/v1/embeddings \"HTTP/1.1 200 OK\"\n"
     ]
    },
    {
     "name": "stdout",
     "output_type": "stream",
     "text": [
      "Generating embedding for point: Government's rejection of the ombudsman's recommendations on women's state pension age is unprecedented and dangerous for democracy\n",
      "Generating embedding for point: supports the Rewild the Church project in Lewes, which aims to rewild 30% of Church-owned land by 2030, and wants the Church of England to lead by example in restoring nature and promoting community cohesion\n",
      "Generating embedding for point: concerned about poor service from AJM Healthcare, the NHS wheelchair provider for New Court Place care home in Borehamwood, causing distress for residents with physical and intellectual disabilities\n"
     ]
    },
    {
     "name": "stderr",
     "output_type": "stream",
     "text": [
      "INFO:httpx:HTTP Request: POST https://api.groq.com/openai/v1/chat/completions \"HTTP/1.1 200 OK\"\n"
     ]
    },
    {
     "name": "stdout",
     "output_type": "stream",
     "text": [
      "Skipping contribution 44732996 - no member ID\n",
      "Generating embedding for point: believes funding for deprived areas should consider deprivation levels and local councils' ability to raise money\n"
     ]
    },
    {
     "name": "stderr",
     "output_type": "stream",
     "text": [
      "INFO:httpx:HTTP Request: POST https://api.openai.com/v1/embeddings \"HTTP/1.1 200 OK\"\n",
      "INFO:httpx:HTTP Request: POST https://api.openai.com/v1/embeddings \"HTTP/1.1 200 OK\"\n",
      "INFO:httpx:HTTP Request: POST https://api.openai.com/v1/embeddings \"HTTP/1.1 200 OK\"\n"
     ]
    },
    {
     "name": "stdout",
     "output_type": "stream",
     "text": [
      "Generating embedding for point: Women born in the 1950s were not adequately informed about the increase in their state pension age\n",
      "Generating embedding for point: urges the Secretary of State to address the issue of health inequalities by investigating AJM Healthcare and supporting residents in need\n"
     ]
    },
    {
     "name": "stderr",
     "output_type": "stream",
     "text": [
      "INFO:httpx:HTTP Request: POST https://api.groq.com/openai/v1/chat/completions \"HTTP/1.1 200 OK\"\n",
      "INFO:httpx:HTTP Request: POST https://api.openai.com/v1/embeddings \"HTTP/1.1 200 OK\"\n",
      "INFO:httpx:HTTP Request: POST https://api.groq.com/openai/v1/chat/completions \"HTTP/1.1 200 OK\"\n",
      "INFO:httpx:HTTP Request: POST https://api.openai.com/v1/embeddings \"HTTP/1.1 200 OK\"\n",
      "INFO:httpx:HTTP Request: POST https://api.groq.com/openai/v1/chat/completions \"HTTP/1.1 200 OK\"\n",
      "INFO:httpx:HTTP Request: POST https://api.openai.com/v1/embeddings \"HTTP/1.1 200 OK\"\n"
     ]
    },
    {
     "name": "stdout",
     "output_type": "stream",
     "text": [
      "Generating embedding for point: supports growth in heat pump technology for better consumer deals and UK manufacturing opportunities\n",
      "Generating embedding for point: thinks rural areas' higher service delivery costs, such as refuse collection and adult social care, should be taken into account\n",
      "Generating embedding for point: supports work on community cohesion issue in the hon. Member's constituency\n",
      "Generating embedding for point: Government's reliance on outdated research from the Department for Work and Pensions is misleading\n",
      "Generating embedding for point: supports the role of Institutes of Technology (IOTs) and FE colleges in training the next generation\n"
     ]
    },
    {
     "name": "stderr",
     "output_type": "stream",
     "text": [
      "INFO:httpx:HTTP Request: POST https://api.openai.com/v1/embeddings \"HTTP/1.1 200 OK\"\n",
      "INFO:httpx:HTTP Request: POST https://api.openai.com/v1/embeddings \"HTTP/1.1 200 OK\"\n"
     ]
    },
    {
     "name": "stdout",
     "output_type": "stream",
     "text": [
      "Generating embedding for point: considers daytime visitor numbers and their impact on local public services as a factor in funding allocation\n"
     ]
    },
    {
     "name": "stderr",
     "output_type": "stream",
     "text": [
      "INFO:httpx:HTTP Request: POST https://api.openai.com/v1/embeddings \"HTTP/1.1 200 OK\"\n",
      "INFO:httpx:HTTP Request: POST https://api.openai.com/v1/embeddings \"HTTP/1.1 200 OK\"\n",
      "INFO:httpx:HTTP Request: POST https://api.openai.com/v1/embeddings \"HTTP/1.1 200 OK\"\n",
      "INFO:httpx:HTTP Request: POST https://api.openai.com/v1/embeddings \"HTTP/1.1 200 OK\"\n",
      "INFO:httpx:HTTP Request: POST https://api.groq.com/openai/v1/chat/completions \"HTTP/1.1 200 OK\"\n",
      "INFO:httpx:HTTP Request: POST https://api.groq.com/openai/v1/chat/completions \"HTTP/1.1 200 OK\"\n"
     ]
    },
    {
     "name": "stdout",
     "output_type": "stream",
     "text": [
      "Generating embedding for point: believes FE colleges are important for upskilling and retraining older adults, including those transitioning to jobs in the clean energy sector\n",
      "Generating embedding for point: Ombudsman's recommendations should be accepted and implemented to address state-level injustice and provide material redress for affected women\n",
      "Generating embedding for point: concerned about constituents being deprived of dignity, independence, and quality of life due to lack of suitable wheelchairs\n",
      "Generating embedding for point: thinks the Government should act as an equaliser to ensure fair funding for local authorities\n",
      "Generating embedding for point: concerns about fires from solar energy and battery storage systems affecting fire services in Shropshire and the UK\n"
     ]
    },
    {
     "name": "stderr",
     "output_type": "stream",
     "text": [
      "INFO:httpx:HTTP Request: POST https://api.openai.com/v1/embeddings \"HTTP/1.1 200 OK\"\n",
      "INFO:httpx:HTTP Request: POST https://api.openai.com/v1/embeddings \"HTTP/1.1 200 OK\"\n",
      "INFO:httpx:HTTP Request: POST https://api.openai.com/v1/embeddings \"HTTP/1.1 200 OK\"\n",
      "INFO:httpx:HTTP Request: POST https://api.openai.com/v1/embeddings \"HTTP/1.1 200 OK\"\n"
     ]
    },
    {
     "name": "stdout",
     "output_type": "stream",
     "text": [
      "Generating embedding for point: Government's decision sets a precedent for ignoring independent adjudicators and stripping citizens of their ability to hold the Government to account\n",
      "Generating embedding for point: supports increased disabled facilities grant to improve accessibility and provide dignity, independence, and quality of life\n",
      "Generating embedding for point: opposes cuts to the adult skills fund\n",
      "Generating embedding for point: thinks fire services should be a statutory consultee on planning applications for battery storage in the UK, particularly in Shropshire\n"
     ]
    },
    {
     "name": "stderr",
     "output_type": "stream",
     "text": [
      "INFO:httpx:HTTP Request: POST https://api.openai.com/v1/embeddings \"HTTP/1.1 200 OK\"\n",
      "INFO:httpx:HTTP Request: POST https://api.openai.com/v1/embeddings \"HTTP/1.1 200 OK\"\n"
     ]
    },
    {
     "name": "stdout",
     "output_type": "stream",
     "text": [
      "Debate 0A563F3A-B49E-459F-84FB-8579AFE03035 marked as analysed.\n",
      "334/336 debates left to analyse\n"
     ]
    },
    {
     "name": "stderr",
     "output_type": "stream",
     "text": [
      "INFO:httpx:HTTP Request: POST https://api.openai.com/v1/embeddings \"HTTP/1.1 200 OK\"\n",
      "INFO:httpx:HTTP Request: POST https://api.openai.com/v1/embeddings \"HTTP/1.1 200 OK\"\n",
      "INFO:httpx:HTTP Request: POST https://api.openai.com/v1/embeddings \"HTTP/1.1 200 OK\"\n"
     ]
    },
    {
     "name": "stdout",
     "output_type": "stream",
     "text": [
      "Generating embedding for point: calls for sustained, multi-year funding for FE colleges that accounts for inflation and rising student numbers, following two decades of real-terms funding reductions under the Conservatives\n"
     ]
    },
    {
     "name": "stderr",
     "output_type": "stream",
     "text": [
      "INFO:httpx:HTTP Request: POST https://api.openai.com/v1/embeddings \"HTTP/1.1 200 OK\"\n",
      "INFO:httpx:HTTP Request: POST https://api.groq.com/openai/v1/chat/completions \"HTTP/1.1 200 OK\"\n",
      "INFO:httpx:HTTP Request: POST https://api.groq.com/openai/v1/chat/completions \"HTTP/1.1 200 OK\"\n",
      "INFO:httpx:HTTP Request: POST https://api.groq.com/openai/v1/chat/completions \"HTTP/1.1 200 OK\"\n",
      "INFO:httpx:HTTP Request: POST https://api.groq.com/openai/v1/chat/completions \"HTTP/1.1 200 OK\"\n",
      "INFO:httpx:HTTP Request: POST https://api.groq.com/openai/v1/chat/completions \"HTTP/1.1 200 OK\"\n"
     ]
    },
    {
     "name": "stdout",
     "output_type": "stream",
     "text": [
      "Generating embedding for point: the government is consulting on safety arrangements for batteries, with a goal of maintaining high safety standards as the industry grows\n",
      "Generating embedding for point: believes the Labour party should use their power to help WASPI campaigners in England, Wales, and Scotland to address the historic wrong of women's state pension age\n",
      "Generating embedding for point: public health should be a priority in addressing health inequalities\n",
      "Generating embedding for point: wants to know the steps being taken to support young people into apprenticeships\n",
      "Generating embedding for point: concerned that the new funding formula for local authorities in London does not account for housing costs, a key driver of poverty and deprivation\n"
     ]
    },
    {
     "name": "stderr",
     "output_type": "stream",
     "text": [
      "INFO:httpx:HTTP Request: POST https://api.openai.com/v1/embeddings \"HTTP/1.1 200 OK\"\n",
      "INFO:httpx:HTTP Request: POST https://api.groq.com/openai/v1/chat/completions \"HTTP/1.1 200 OK\"\n",
      "INFO:httpx:HTTP Request: POST https://api.openai.com/v1/embeddings \"HTTP/1.1 200 OK\"\n",
      "INFO:httpx:HTTP Request: POST https://api.openai.com/v1/embeddings \"HTTP/1.1 200 OK\"\n",
      "INFO:httpx:HTTP Request: POST https://api.openai.com/v1/embeddings \"HTTP/1.1 200 OK\"\n",
      "INFO:httpx:HTTP Request: POST https://api.openai.com/v1/embeddings \"HTTP/1.1 200 OK\"\n"
     ]
    },
    {
     "name": "stdout",
     "output_type": "stream",
     "text": [
      "Skipping contribution 44792952 - no member ID\n",
      "Generating embedding for point: believes funding should be available for colleges like Beaumont in Carlisle to support young people with special educational needs and disabilities\n",
      "Generating embedding for point: concerned that local government reorganisation and budget cuts to Oxfordshire's integrated care board will undermine public health coordination\n"
     ]
    },
    {
     "name": "stderr",
     "output_type": "stream",
     "text": [
      "INFO:httpx:HTTP Request: POST https://api.openai.com/v1/embeddings \"HTTP/1.1 200 OK\"\n",
      "INFO:httpx:HTTP Request: POST https://api.groq.com/openai/v1/chat/completions \"HTTP/1.1 200 OK\"\n",
      "INFO:httpx:HTTP Request: POST https://api.groq.com/openai/v1/chat/completions \"HTTP/1.1 200 OK\"\n",
      "INFO:httpx:HTTP Request: POST https://api.openai.com/v1/embeddings \"HTTP/1.1 200 OK\"\n",
      "INFO:httpx:HTTP Request: POST https://api.groq.com/openai/v1/chat/completions \"HTTP/1.1 200 OK\"\n"
     ]
    },
    {
     "name": "stdout",
     "output_type": "stream",
     "text": [
      "Generating embedding for point: believes businesses like Steve Willis Training in Burgess Hill are vital for delivering future skills in the energy sector, particularly in the south-east\n"
     ]
    },
    {
     "name": "stderr",
     "output_type": "stream",
     "text": [
      "INFO:httpx:HTTP Request: POST https://api.groq.com/openai/v1/chat/completions \"HTTP/1.1 200 OK\"\n",
      "INFO:httpx:HTTP Request: POST https://api.groq.com/openai/v1/chat/completions \"HTTP/1.1 200 OK\"\n",
      "INFO:httpx:HTTP Request: POST https://api.openai.com/v1/embeddings \"HTTP/1.1 200 OK\"\n"
     ]
    },
    {
     "name": "stdout",
     "output_type": "stream",
     "text": [
      "Generating embedding for point: the government is consulting on funding for deprived areas and has included the cost of temporary accommodation in the base formula for the first time, which will particularly benefit outer-London boroughs\n",
      "Generating embedding for point: wants assurance that public health will remain a priority and funding will increase in future years\n",
      "Generating embedding for point: believes the Government should provide financial redress to 1950s women affected by state pension age changes, despite citing cost and administrative burdens\n",
      "Generating embedding for point: Government claims apprenticeship starts, achievements, and participation are increasing\n",
      "Generating embedding for point: Further Education colleges provide good opportunities for children with Special Educational Needs and Disabilities (SEND) to thrive\n"
     ]
    },
    {
     "name": "stderr",
     "output_type": "stream",
     "text": [
      "INFO:httpx:HTTP Request: POST https://api.openai.com/v1/embeddings \"HTTP/1.1 200 OK\"\n",
      "INFO:httpx:HTTP Request: POST https://api.openai.com/v1/embeddings \"HTTP/1.1 200 OK\"\n",
      "INFO:httpx:HTTP Request: POST https://api.openai.com/v1/embeddings \"HTTP/1.1 200 OK\"\n",
      "INFO:httpx:HTTP Request: POST https://api.openai.com/v1/embeddings \"HTTP/1.1 200 OK\"\n",
      "INFO:httpx:HTTP Request: POST https://api.openai.com/v1/embeddings \"HTTP/1.1 200 OK\"\n"
     ]
    },
    {
     "name": "stdout",
     "output_type": "stream",
     "text": [
      "Generating embedding for point: points to the Equitable Life Compensation Scheme as an example of a large-scale compensation scheme created in response to DWP maladministration\n",
      "Generating embedding for point: Introducing foundation apprenticeships to support young people in critical sectors like construction and health and social care\n"
     ]
    },
    {
     "name": "stderr",
     "output_type": "stream",
     "text": [
      "INFO:httpx:HTTP Request: POST https://api.groq.com/openai/v1/chat/completions \"HTTP/1.1 200 OK\"\n",
      "INFO:httpx:HTTP Request: POST https://api.openai.com/v1/embeddings \"HTTP/1.1 200 OK\"\n"
     ]
    },
    {
     "name": "stdout",
     "output_type": "stream",
     "text": [
      "Generating embedding for point: supports organisations like Steve Willis Training in providing skills training for jobs in new technologies such as heat pumps\n"
     ]
    },
    {
     "name": "stderr",
     "output_type": "stream",
     "text": [
      "INFO:httpx:HTTP Request: POST https://api.groq.com/openai/v1/chat/completions \"HTTP/1.1 200 OK\"\n",
      "INFO:httpx:HTTP Request: POST https://api.groq.com/openai/v1/chat/completions \"HTTP/1.1 200 OK\"\n",
      "INFO:httpx:HTTP Request: POST https://api.openai.com/v1/embeddings \"HTTP/1.1 200 OK\"\n",
      "INFO:httpx:HTTP Request: POST https://api.groq.com/openai/v1/chat/completions \"HTTP/1.1 200 OK\"\n"
     ]
    },
    {
     "name": "stdout",
     "output_type": "stream",
     "text": [
      "Debate 096F306E-9E01-4CC1-A043-7AA1E1817880 marked as analysed.\n",
      "Generating embedding for point: believes more funding is needed for devolved mayors to maintain adult skills funding, particularly for institutions like Harrogate College which has faced a £90,000 cut\n",
      "333/336 debates left to analyse\n",
      "Generating embedding for point: reducing NHS bureaucracy will free up resources for patient care and public health\n",
      "Generating embedding for point: believes Labour made and broke promises to WASPI women\n"
     ]
    },
    {
     "name": "stderr",
     "output_type": "stream",
     "text": [
      "INFO:httpx:HTTP Request: POST https://api.openai.com/v1/embeddings \"HTTP/1.1 200 OK\"\n",
      "INFO:httpx:HTTP Request: POST https://api.openai.com/v1/embeddings \"HTTP/1.1 200 OK\"\n",
      "INFO:httpx:HTTP Request: POST https://api.openai.com/v1/embeddings \"HTTP/1.1 200 OK\"\n",
      "INFO:httpx:HTTP Request: POST https://api.openai.com/v1/embeddings \"HTTP/1.1 200 OK\"\n",
      "INFO:httpx:HTTP Request: POST https://api.groq.com/openai/v1/chat/completions \"HTTP/1.1 200 OK\"\n"
     ]
    },
    {
     "name": "stdout",
     "output_type": "stream",
     "text": [
      "Skipping contribution 44733749 - no member ID\n",
      "Skipping contribution 3318528 - no member ID\n",
      "Generating embedding for point: thinks 74% of the British public support fair compensation for WASPI women\n",
      "Generating embedding for point: investment in public health is increasing due to Department of Health decisions\n",
      "Generating embedding for point: concerned that the Government is shipping oil and gas jobs abroad instead of keeping them in the UK, such as in Basildon and Billericay, while investing in green energy\n"
     ]
    },
    {
     "name": "stderr",
     "output_type": "stream",
     "text": [
      "INFO:httpx:HTTP Request: POST https://api.groq.com/openai/v1/chat/completions \"HTTP/1.1 200 OK\"\n",
      "INFO:httpx:HTTP Request: POST https://api.openai.com/v1/embeddings \"HTTP/1.1 200 OK\"\n",
      "INFO:httpx:HTTP Request: POST https://api.openai.com/v1/embeddings \"HTTP/1.1 200 OK\"\n",
      "INFO:httpx:HTTP Request: POST https://api.openai.com/v1/embeddings \"HTTP/1.1 200 OK\"\n"
     ]
    },
    {
     "name": "stdout",
     "output_type": "stream",
     "text": [
      "Generating embedding for point: supports the Labour Government's decision to secure the future of Harrogate College\n"
     ]
    },
    {
     "name": "stderr",
     "output_type": "stream",
     "text": [
      "INFO:httpx:HTTP Request: POST https://api.groq.com/openai/v1/chat/completions \"HTTP/1.1 200 OK\"\n"
     ]
    },
    {
     "name": "stdout",
     "output_type": "stream",
     "text": [
      "Generating embedding for point: local authorities' spending power is improving, benefiting public health\n",
      "Generating embedding for point: thinks the Government should support all forms of energy production to create more jobs and cheaper energy\n"
     ]
    },
    {
     "name": "stderr",
     "output_type": "stream",
     "text": [
      "INFO:httpx:HTTP Request: POST https://api.groq.com/openai/v1/chat/completions \"HTTP/1.1 200 OK\"\n",
      "INFO:httpx:HTTP Request: POST https://api.openai.com/v1/embeddings \"HTTP/1.1 200 OK\"\n"
     ]
    },
    {
     "name": "stdout",
     "output_type": "stream",
     "text": [
      "Generating embedding for point: West Suffolk College should be awarded status as a construction technical college of excellence for the east of England to boost construction skills for projects like the new West Suffolk hospital and Sizewell C construction site\n",
      "Generating embedding for point: calls for a 50p reduction in beer duty to support the beer and pub sector\n"
     ]
    },
    {
     "name": "stderr",
     "output_type": "stream",
     "text": [
      "INFO:httpx:HTTP Request: POST https://api.openai.com/v1/embeddings \"HTTP/1.1 200 OK\"\n",
      "INFO:httpx:HTTP Request: POST https://api.openai.com/v1/embeddings \"HTTP/1.1 200 OK\"\n"
     ]
    },
    {
     "name": "stdout",
     "output_type": "stream",
     "text": [
      "Generating embedding for point: believes lifelong learning is vital for keeping skills up to date\n"
     ]
    },
    {
     "name": "stderr",
     "output_type": "stream",
     "text": [
      "INFO:httpx:HTTP Request: POST https://api.openai.com/v1/embeddings \"HTTP/1.1 200 OK\"\n",
      "INFO:httpx:HTTP Request: POST https://api.groq.com/openai/v1/chat/completions \"HTTP/1.1 200 OK\"\n",
      "INFO:httpx:HTTP Request: POST https://api.openai.com/v1/embeddings \"HTTP/1.1 200 OK\"\n",
      "INFO:httpx:HTTP Request: POST https://api.openai.com/v1/embeddings \"HTTP/1.1 200 OK\"\n",
      "INFO:httpx:HTTP Request: POST https://api.groq.com/openai/v1/chat/completions \"HTTP/1.1 200 OK\"\n"
     ]
    },
    {
     "name": "stdout",
     "output_type": "stream",
     "text": [
      "Generating embedding for point: The Government should provide financial redress to women affected by the increase in state pension age, as it is an injustice that they have had to fight for what they are owed\n",
      "Skipping contribution 44792308 - no member ID\n"
     ]
    },
    {
     "name": "stderr",
     "output_type": "stream",
     "text": [
      "INFO:httpx:HTTP Request: POST https://api.groq.com/openai/v1/chat/completions \"HTTP/1.1 200 OK\"\n"
     ]
    },
    {
     "name": "stdout",
     "output_type": "stream",
     "text": [
      "Generating embedding for point: reducing beer duty would offset the cost of the Extended Producer Responsibility scheme for brewers and the supply chain\n",
      "Generating embedding for point: thinks adult education funding should be protected and maintained\n"
     ]
    },
    {
     "name": "stderr",
     "output_type": "stream",
     "text": [
      "INFO:httpx:HTTP Request: POST https://api.openai.com/v1/embeddings \"HTTP/1.1 200 OK\"\n",
      "INFO:httpx:HTTP Request: POST https://api.groq.com/openai/v1/chat/completions \"HTTP/1.1 200 OK\"\n",
      "INFO:httpx:HTTP Request: POST https://api.openai.com/v1/embeddings \"HTTP/1.1 200 OK\"\n",
      "INFO:httpx:HTTP Request: POST https://api.openai.com/v1/embeddings \"HTTP/1.1 200 OK\"\n"
     ]
    },
    {
     "name": "stdout",
     "output_type": "stream",
     "text": [
      "Generating embedding for point: supports Labour's plan for technical excellence colleges to improve opportunities for young people and drive growth\n"
     ]
    },
    {
     "name": "stderr",
     "output_type": "stream",
     "text": [
      "INFO:httpx:HTTP Request: POST https://api.groq.com/openai/v1/chat/completions \"HTTP/1.1 200 OK\"\n"
     ]
    },
    {
     "name": "stdout",
     "output_type": "stream",
     "text": [
      "Generating embedding for point: Government is not currently creating enough jobs in the clean power sector, but plans to create future jobs and maintain existing North Sea fields\n",
      "Generating embedding for point: Options to cover the cost include tapering the amount paid, using a bell curve model to allocate compensation, and using DWP records to operate a scheme\n"
     ]
    },
    {
     "name": "stderr",
     "output_type": "stream",
     "text": [
      "INFO:httpx:HTTP Request: POST https://api.openai.com/v1/embeddings \"HTTP/1.1 200 OK\"\n"
     ]
    },
    {
     "name": "stdout",
     "output_type": "stream",
     "text": [
      "Generating embedding for point: beer duty reduction is necessary to protect the profitability of brewers and the livelihoods of those in the industry, including farmers and pub workers\n",
      "Generating embedding for point: seeks information on the Government's plans for sustainable funding for FE colleges\n",
      "Generating embedding for point: concerned about recruitment freezes in NHS trusts preventing newly qualified British nurses from finding work\n",
      "Generating embedding for point: believes West Suffolk College should be considered for selection as a technical excellence college due to its outstanding performance\n"
     ]
    },
    {
     "name": "stderr",
     "output_type": "stream",
     "text": [
      "INFO:httpx:HTTP Request: POST https://api.openai.com/v1/embeddings \"HTTP/1.1 200 OK\"\n",
      "INFO:httpx:HTTP Request: POST https://api.openai.com/v1/embeddings \"HTTP/1.1 200 OK\"\n",
      "INFO:httpx:HTTP Request: POST https://api.openai.com/v1/embeddings \"HTTP/1.1 200 OK\"\n"
     ]
    },
    {
     "name": "stdout",
     "output_type": "stream",
     "text": [
      "Generating embedding for point: The cost of providing financial remedy could be between £3.5 billion and £31 billion, depending on the level of severity of injustice\n"
     ]
    },
    {
     "name": "stderr",
     "output_type": "stream",
     "text": [
      "INFO:httpx:HTTP Request: POST https://api.openai.com/v1/embeddings \"HTTP/1.1 200 OK\"\n",
      "INFO:httpx:HTTP Request: POST https://api.openai.com/v1/embeddings \"HTTP/1.1 200 OK\"\n",
      "INFO:httpx:HTTP Request: POST https://api.openai.com/v1/embeddings \"HTTP/1.1 200 OK\"\n"
     ]
    },
    {
     "name": "stdout",
     "output_type": "stream",
     "text": [
      "Generating embedding for point: the beer and pub sector is a significant contributor to local economies, with over 1,800 jobs and £100 million in contributions in Woking alone\n"
     ]
    },
    {
     "name": "stderr",
     "output_type": "stream",
     "text": [
      "INFO:httpx:HTTP Request: POST https://api.openai.com/v1/embeddings \"HTTP/1.1 200 OK\"\n",
      "INFO:httpx:HTTP Request: POST https://api.groq.com/openai/v1/chat/completions \"HTTP/1.1 200 OK\"\n"
     ]
    },
    {
     "name": "stdout",
     "output_type": "stream",
     "text": [
      "Generating embedding for point: wants the Secretary of State to ensure NHS trusts are funded to employ new nurses, prioritising British nurses for British jobs to tackle health inequalities\n"
     ]
    },
    {
     "name": "stderr",
     "output_type": "stream",
     "text": [
      "INFO:httpx:HTTP Request: POST https://api.openai.com/v1/embeddings \"HTTP/1.1 200 OK\"\n",
      "INFO:httpx:HTTP Request: POST https://api.openai.com/v1/embeddings \"HTTP/1.1 200 OK\"\n"
     ]
    },
    {
     "name": "stdout",
     "output_type": "stream",
     "text": [
      "Generating embedding for point: seeks information on the Government's plans for ongoing support for adult education\n",
      "Generating embedding for point: wants to know how many jobs GB Energy will create in Aberdeen and Aberdeenshire by next year\n",
      "Generating embedding for point: WASPI and other campaigns propose a one-off payment that takes into account the impact on individual women, and want the Government to enter into talks to address the issue\n"
     ]
    },
    {
     "name": "stderr",
     "output_type": "stream",
     "text": [
      "INFO:httpx:HTTP Request: POST https://api.openai.com/v1/embeddings \"HTTP/1.1 200 OK\"\n"
     ]
    },
    {
     "name": "stdout",
     "output_type": "stream",
     "text": [
      "Generating embedding for point: reducing beer duty would help pubs, which are important community hubs, to remain viable\n"
     ]
    },
    {
     "name": "stderr",
     "output_type": "stream",
     "text": [
      "INFO:httpx:HTTP Request: POST https://api.groq.com/openai/v1/chat/completions \"HTTP/1.1 200 OK\"\n",
      "INFO:httpx:HTTP Request: POST https://api.openai.com/v1/embeddings \"HTTP/1.1 200 OK\"\n",
      "INFO:httpx:HTTP Request: POST https://api.openai.com/v1/embeddings \"HTTP/1.1 200 OK\"\n",
      "INFO:httpx:HTTP Request: POST https://api.openai.com/v1/embeddings \"HTTP/1.1 200 OK\"\n"
     ]
    },
    {
     "name": "stdout",
     "output_type": "stream",
     "text": [
      "Generating embedding for point: supports degree apprenticeships for social mobility and matching skills to the economy\n",
      "Generating embedding for point: The remedy should be speedy, simple, and sensitive, and should avoid legal action\n"
     ]
    },
    {
     "name": "stderr",
     "output_type": "stream",
     "text": [
      "INFO:httpx:HTTP Request: POST https://api.groq.com/openai/v1/chat/completions \"HTTP/1.1 200 OK\"\n",
      "INFO:httpx:HTTP Request: POST https://api.openai.com/v1/embeddings \"HTTP/1.1 200 OK\"\n",
      "INFO:httpx:HTTP Request: POST https://api.openai.com/v1/embeddings \"HTTP/1.1 200 OK\"\n"
     ]
    },
    {
     "name": "stdout",
     "output_type": "stream",
     "text": [
      "Generating embedding for point: Government is working to reduce nursing unemployment\n"
     ]
    },
    {
     "name": "stderr",
     "output_type": "stream",
     "text": [
      "INFO:httpx:HTTP Request: POST https://api.groq.com/openai/v1/chat/completions \"HTTP/1.1 200 OK\"\n",
      "INFO:httpx:HTTP Request: POST https://api.groq.com/openai/v1/chat/completions \"HTTP/1.1 200 OK\"\n",
      "INFO:httpx:HTTP Request: POST https://api.openai.com/v1/embeddings \"HTTP/1.1 200 OK\"\n",
      "INFO:httpx:HTTP Request: POST https://api.groq.com/openai/v1/chat/completions \"HTTP/1.1 200 OK\"\n"
     ]
    },
    {
     "name": "stdout",
     "output_type": "stream",
     "text": [
      "Generating embedding for point: requests the Secretary of State to congratulate Jack Kellas on achieving a distinction and a first-class honours degree through a degree apprenticeship\n",
      "Generating embedding for point: believes GB Energy will create thousands of jobs, including in Aberdeen, and considers Aberdeen the clean energy capital of the country, criticising the SNP for inaction on creating a clean energy future for the city\n",
      "Generating embedding for point: believes further education institutions like Shrewsbury College achieve 'outstanding' status due to breadth of training and qualifications offered\n"
     ]
    },
    {
     "name": "stderr",
     "output_type": "stream",
     "text": [
      "INFO:httpx:HTTP Request: POST https://api.groq.com/openai/v1/chat/completions \"HTTP/1.1 200 OK\"\n",
      "INFO:httpx:HTTP Request: POST https://api.openai.com/v1/embeddings \"HTTP/1.1 200 OK\"\n"
     ]
    },
    {
     "name": "stdout",
     "output_type": "stream",
     "text": [
      "Generating embedding for point: Government aims to reduce reliance on overseas NHS workers\n",
      "Generating embedding for point: concerned that Extended Producer Responsibility (EPR) will harm small breweries in Glastonbury and Somerton, such as Fine Tuned Brewery, by increasing costs and threatening their viability\n"
     ]
    },
    {
     "name": "stderr",
     "output_type": "stream",
     "text": [
      "INFO:httpx:HTTP Request: POST https://api.openai.com/v1/embeddings \"HTTP/1.1 200 OK\"\n",
      "INFO:httpx:HTTP Request: POST https://api.openai.com/v1/embeddings \"HTTP/1.1 200 OK\"\n"
     ]
    },
    {
     "name": "stdout",
     "output_type": "stream",
     "text": [
      "Generating embedding for point: Government should negotiate with WASPI campaigners to resolve women's state pension age issue, rather than pursuing a court process, to address the long-standing injustice\n",
      "Generating embedding for point: wants the Secretary of State to increase opportunities for people to participate in degree apprenticeships\n",
      "Generating embedding for point: thinks the Department for Education should consider twin challenges of offering wide range of qualifications and rural location when supporting colleges like Shrewsbury College\n"
     ]
    },
    {
     "name": "stderr",
     "output_type": "stream",
     "text": [
      "INFO:httpx:HTTP Request: POST https://api.openai.com/v1/embeddings \"HTTP/1.1 200 OK\"\n",
      "INFO:httpx:HTTP Request: POST https://api.openai.com/v1/embeddings \"HTTP/1.1 200 OK\"\n",
      "INFO:httpx:HTTP Request: POST https://api.openai.com/v1/embeddings \"HTTP/1.1 200 OK\"\n",
      "INFO:httpx:HTTP Request: POST https://api.openai.com/v1/embeddings \"HTTP/1.1 200 OK\"\n"
     ]
    },
    {
     "name": "stdout",
     "output_type": "stream",
     "text": [
      "Generating embedding for point: Previous Government is blamed for poor workforce planning in the NHS\n",
      "Generating embedding for point: believes EPR will unfairly make small breweries responsible for end-of-life management of packaging they do not produce\n",
      "Skipping contribution 44788537 - no member ID\n"
     ]
    },
    {
     "name": "stderr",
     "output_type": "stream",
     "text": [
      "INFO:httpx:HTTP Request: POST https://api.openai.com/v1/embeddings \"HTTP/1.1 200 OK\"\n",
      "INFO:httpx:HTTP Request: POST https://api.openai.com/v1/embeddings \"HTTP/1.1 200 OK\"\n",
      "INFO:httpx:HTTP Request: POST https://api.openai.com/v1/embeddings \"HTTP/1.1 200 OK\"\n",
      "INFO:httpx:HTTP Request: POST https://api.groq.com/openai/v1/chat/completions \"HTTP/1.1 200 OK\"\n",
      "INFO:httpx:HTTP Request: POST https://api.groq.com/openai/v1/chat/completions \"HTTP/1.1 200 OK\"\n"
     ]
    },
    {
     "name": "stdout",
     "output_type": "stream",
     "text": [
      "Generating embedding for point: Government should provide financial redress for women affected by changes to state pension age, rather than forcing them to go through court battles\n",
      "Generating embedding for point: supports Level 6 apprenticeships as part of the apprenticeship offer and confirms continued funding for them\n"
     ]
    },
    {
     "name": "stderr",
     "output_type": "stream",
     "text": [
      "INFO:httpx:HTTP Request: POST https://api.groq.com/openai/v1/chat/completions \"HTTP/1.1 200 OK\"\n",
      "INFO:httpx:HTTP Request: POST https://api.groq.com/openai/v1/chat/completions \"HTTP/1.1 200 OK\"\n"
     ]
    },
    {
     "name": "stdout",
     "output_type": "stream",
     "text": [
      "Generating embedding for point: Government is reviewing and reforming education delivery in further education institutions, particularly for colleges in rural areas and those offering T-levels\n",
      "Generating embedding for point: reducing beer duty is necessary to support the brewing and bottle industry\n",
      "Debate 0954508D-5C85-49BC-B5EE-865FBF1353DA marked as analysed.\n",
      "332/336 debates left to analyse\n"
     ]
    },
    {
     "name": "stderr",
     "output_type": "stream",
     "text": [
      "INFO:httpx:HTTP Request: POST https://api.openai.com/v1/embeddings \"HTTP/1.1 200 OK\"\n",
      "INFO:httpx:HTTP Request: POST https://api.openai.com/v1/embeddings \"HTTP/1.1 200 OK\"\n"
     ]
    },
    {
     "name": "stdout",
     "output_type": "stream",
     "text": [
      "Generating embedding for point: Discrimination against women must be considered in any redress mechanism for state pension age changes, in line with the UN Convention on the Elimination of All Forms of Discrimination Against Women (CEDAW)\n"
     ]
    },
    {
     "name": "stderr",
     "output_type": "stream",
     "text": [
      "INFO:httpx:HTTP Request: POST https://api.openai.com/v1/embeddings \"HTTP/1.1 200 OK\"\n",
      "INFO:httpx:HTTP Request: POST https://api.openai.com/v1/embeddings \"HTTP/1.1 200 OK\"\n",
      "INFO:httpx:HTTP Request: POST https://api.openai.com/v1/embeddings \"HTTP/1.1 200 OK\"\n"
     ]
    },
    {
     "name": "stdout",
     "output_type": "stream",
     "text": [
      "Skipping contribution 44713775 - no member ID\n",
      "Generating embedding for point: the standard rate of duty on non-draught products should not rise by 3.6%\n",
      "Generating embedding for point: UK Government should implement a temporary special measure to guarantee an adequate, non-discriminatory pension for affected women, as per CEDAW treaty obligations\n",
      "Debate 087A9955-7B34-485F-92A6-C12D1D03F995 marked as analysed.\n",
      "331/336 debates left to analyse\n",
      "Debate 0BD92E18-6180-4A66-B49C-8817C151F3A4 marked as analysed.\n",
      "330/336 debates left to analyse\n"
     ]
    },
    {
     "name": "stderr",
     "output_type": "stream",
     "text": [
      "INFO:httpx:HTTP Request: POST https://api.openai.com/v1/embeddings \"HTTP/1.1 200 OK\"\n",
      "INFO:httpx:HTTP Request: POST https://api.groq.com/openai/v1/chat/completions \"HTTP/1.1 200 OK\"\n",
      "INFO:httpx:HTTP Request: POST https://api.openai.com/v1/embeddings \"HTTP/1.1 200 OK\"\n",
      "INFO:httpx:HTTP Request: POST https://api.groq.com/openai/v1/chat/completions \"HTTP/1.1 200 OK\"\n"
     ]
    },
    {
     "name": "stdout",
     "output_type": "stream",
     "text": [
      "Generating embedding for point: the Department for Environment, Food and Rural Affairs' introduction of EPR will harm the industry\n",
      "Generating embedding for point: wants to know what steps are being taken to support probation officers\n"
     ]
    },
    {
     "name": "stderr",
     "output_type": "stream",
     "text": [
      "INFO:httpx:HTTP Request: POST https://api.openai.com/v1/embeddings \"HTTP/1.1 200 OK\"\n",
      "INFO:httpx:HTTP Request: POST https://api.groq.com/openai/v1/chat/completions \"HTTP/1.1 200 OK\"\n",
      "INFO:httpx:HTTP Request: POST https://api.groq.com/openai/v1/chat/completions \"HTTP/1.1 200 OK\"\n",
      "INFO:httpx:HTTP Request: POST https://api.groq.com/openai/v1/chat/completions \"HTTP/1.1 200 OK\"\n"
     ]
    },
    {
     "name": "stdout",
     "output_type": "stream",
     "text": [
      "Generating embedding for point: the Government's policies on beer duty are contradictory and will threaten growth and investment\n",
      "Generating embedding for point: T-levels are a great option for students, but have significant teething problems, including finding suitable work placements\n",
      "Generating embedding for point: wants to know about discussions with Cabinet colleagues regarding the potential impact of the industrial strategy on Scotland\n"
     ]
    },
    {
     "name": "stderr",
     "output_type": "stream",
     "text": [
      "INFO:httpx:HTTP Request: POST https://api.groq.com/openai/v1/chat/completions \"HTTP/1.1 200 OK\"\n",
      "INFO:httpx:HTTP Request: POST https://api.openai.com/v1/embeddings \"HTTP/1.1 200 OK\"\n"
     ]
    },
    {
     "name": "stdout",
     "output_type": "stream",
     "text": [
      "Generating embedding for point: WASPI women deserve compensation, not just the amount of money, but also recognition of the injustice they have faced regarding their state pension age\n",
      "Skipping contribution 44653265 - no member ID\n"
     ]
    },
    {
     "name": "stderr",
     "output_type": "stream",
     "text": [
      "INFO:httpx:HTTP Request: POST https://api.openai.com/v1/embeddings \"HTTP/1.1 200 OK\"\n",
      "INFO:httpx:HTTP Request: POST https://api.openai.com/v1/embeddings \"HTTP/1.1 200 OK\"\n",
      "INFO:httpx:HTTP Request: POST https://api.openai.com/v1/embeddings \"HTTP/1.1 200 OK\"\n"
     ]
    },
    {
     "name": "stdout",
     "output_type": "stream",
     "text": [
      "Generating embedding for point: wants an assessment of the potential impact of the Spending Review 2025 on economic growth in Scotland\n",
      "Skipping contribution 44670294 - no member ID\n"
     ]
    },
    {
     "name": "stderr",
     "output_type": "stream",
     "text": [
      "INFO:httpx:HTTP Request: POST https://api.openai.com/v1/embeddings \"HTTP/1.1 200 OK\"\n",
      "INFO:httpx:HTTP Request: POST https://api.openai.com/v1/embeddings \"HTTP/1.1 200 OK\"\n",
      "INFO:httpx:HTTP Request: POST https://api.groq.com/openai/v1/chat/completions \"HTTP/1.1 200 OK\"\n"
     ]
    },
    {
     "name": "stdout",
     "output_type": "stream",
     "text": [
      "Generating embedding for point: Employers need to be incentivised to offer work placements to T-level students\n"
     ]
    },
    {
     "name": "stderr",
     "output_type": "stream",
     "text": [
      "INFO:httpx:HTTP Request: POST https://api.groq.com/openai/v1/chat/completions \"HTTP/1.1 200 OK\"\n",
      "INFO:httpx:HTTP Request: POST https://api.openai.com/v1/embeddings \"HTTP/1.1 200 OK\"\n"
     ]
    },
    {
     "name": "stdout",
     "output_type": "stream",
     "text": [
      "Generating embedding for point: Government will invest up to £700 million in probation services, a 45% increase, and recruit 1,300 more probation officers in 2025-26 to support hard-working probation staff\n"
     ]
    },
    {
     "name": "stderr",
     "output_type": "stream",
     "text": [
      "INFO:httpx:HTTP Request: POST https://api.groq.com/openai/v1/chat/completions \"HTTP/1.1 200 OK\"\n"
     ]
    },
    {
     "name": "stdout",
     "output_type": "stream",
     "text": [
      "Generating embedding for point: reducing beer duty would help publicans, such as those at Beer Matters micropub in Barnstaple, to stay in business and support community social hubs\n",
      "Generating embedding for point: Teacher shortages, particularly in high-priority skill sectors like digital and construction, are a huge problem for colleges and put the Government's missions at risk\n"
     ]
    },
    {
     "name": "stderr",
     "output_type": "stream",
     "text": [
      "INFO:httpx:HTTP Request: POST https://api.groq.com/openai/v1/chat/completions \"HTTP/1.1 200 OK\"\n",
      "INFO:httpx:HTTP Request: POST https://api.openai.com/v1/embeddings \"HTTP/1.1 200 OK\"\n",
      "INFO:httpx:HTTP Request: POST https://api.openai.com/v1/embeddings \"HTTP/1.1 200 OK\"\n",
      "INFO:httpx:HTTP Request: POST https://api.groq.com/openai/v1/chat/completions \"HTTP/1.1 200 OK\"\n",
      "INFO:httpx:HTTP Request: POST https://api.openai.com/v1/embeddings \"HTTP/1.1 200 OK\"\n"
     ]
    },
    {
     "name": "stdout",
     "output_type": "stream",
     "text": [
      "Generating embedding for point: criticises the SNP for creating jobs overseas instead of in Scotland\n",
      "Generating embedding for point: Women born in the 1950s have suffered an injustice due to changes in state pension age\n",
      "Generating embedding for point: The Scottish Government has received its largest settlement of £14 billion extra\n"
     ]
    },
    {
     "name": "stderr",
     "output_type": "stream",
     "text": [
      "INFO:httpx:HTTP Request: POST https://api.openai.com/v1/embeddings \"HTTP/1.1 200 OK\"\n",
      "INFO:httpx:HTTP Request: POST https://api.openai.com/v1/embeddings \"HTTP/1.1 200 OK\"\n",
      "INFO:httpx:HTTP Request: POST https://api.groq.com/openai/v1/chat/completions \"HTTP/1.1 200 OK\"\n",
      "INFO:httpx:HTTP Request: POST https://api.groq.com/openai/v1/chat/completions \"HTTP/1.1 200 OK\"\n",
      "INFO:httpx:HTTP Request: POST https://api.openai.com/v1/embeddings \"HTTP/1.1 200 OK\"\n",
      "INFO:httpx:HTTP Request: POST https://api.groq.com/openai/v1/chat/completions \"HTTP/1.1 200 OK\"\n"
     ]
    },
    {
     "name": "stdout",
     "output_type": "stream",
     "text": [
      "Generating embedding for point: Urgent action is needed to provide financial redress to affected women\n",
      "Generating embedding for point: believes the Labour industrial strategy will secure a bright industrial future for Scotland\n",
      "Generating embedding for point: concerns that the EPR rules wrongly classify glass packaging from pubs as household waste, resulting in duplicate charges for brewers and pubs\n",
      "Generating embedding for point: Four interest rate cuts have resulted in cheaper mortgages for Scottish homeowners\n",
      "Generating embedding for point: concerned that unmanageable workloads, high staff turnover and sickness in the Probation Service are impacting rehabilitation and resettlement of prisoners\n"
     ]
    },
    {
     "name": "stderr",
     "output_type": "stream",
     "text": [
      "INFO:httpx:HTTP Request: POST https://api.openai.com/v1/embeddings \"HTTP/1.1 200 OK\"\n",
      "INFO:httpx:HTTP Request: POST https://api.groq.com/openai/v1/chat/completions \"HTTP/1.1 200 OK\"\n",
      "INFO:httpx:HTTP Request: POST https://api.openai.com/v1/embeddings \"HTTP/1.1 200 OK\"\n",
      "INFO:httpx:HTTP Request: POST https://api.openai.com/v1/embeddings \"HTTP/1.1 200 OK\"\n",
      "INFO:httpx:HTTP Request: POST https://api.openai.com/v1/embeddings \"HTTP/1.1 200 OK\"\n",
      "INFO:httpx:HTTP Request: POST https://api.openai.com/v1/embeddings \"HTTP/1.1 200 OK\"\n"
     ]
    },
    {
     "name": "stdout",
     "output_type": "stream",
     "text": [
      "Generating embedding for point: Proposed redress options include an initial lump sum and additional payments over a 5-year period\n",
      "Generating embedding for point: accuses the SNP and Conservatives of previously having no plan for Scottish industry\n",
      "Generating embedding for point: DEFRA has acknowledged the policy is wrong but has not yet delivered a solution\n",
      "Generating embedding for point: believes that consistent supervision by the same probation officer can reduce reoffending\n",
      "Generating embedding for point: Fuel duty has been frozen, reducing costs for 3 million Scottish motorists\n"
     ]
    },
    {
     "name": "stderr",
     "output_type": "stream",
     "text": [
      "INFO:httpx:HTTP Request: POST https://api.groq.com/openai/v1/chat/completions \"HTTP/1.1 200 OK\"\n",
      "INFO:httpx:HTTP Request: POST https://api.openai.com/v1/embeddings \"HTTP/1.1 200 OK\"\n",
      "INFO:httpx:HTTP Request: POST https://api.openai.com/v1/embeddings \"HTTP/1.1 200 OK\"\n",
      "INFO:httpx:HTTP Request: POST https://api.openai.com/v1/embeddings \"HTTP/1.1 200 OK\"\n",
      "INFO:httpx:HTTP Request: POST https://api.openai.com/v1/embeddings \"HTTP/1.1 200 OK\"\n",
      "INFO:httpx:HTTP Request: POST https://api.openai.com/v1/embeddings \"HTTP/1.1 200 OK\"\n"
     ]
    },
    {
     "name": "stdout",
     "output_type": "stream",
     "text": [
      "Generating embedding for point: reducing beer duty would bring benefits to the industry\n",
      "Generating embedding for point: calls for the Minister to address these issues to improve morale and allow sufficient time for individual cases\n",
      "Generating embedding for point: commits the Scotland Office to supporting opportunities from the industrial strategy\n",
      "Generating embedding for point: The minimum wage has been increased, giving a pay rise to 200,000 low-paid Scots\n",
      "Generating embedding for point: A rules-based scheme, with payments adjusted based on the severity of injustice, could be a viable solution\n"
     ]
    },
    {
     "name": "stderr",
     "output_type": "stream",
     "text": [
      "INFO:httpx:HTTP Request: POST https://api.openai.com/v1/embeddings \"HTTP/1.1 200 OK\"\n",
      "INFO:httpx:HTTP Request: POST https://api.openai.com/v1/embeddings \"HTTP/1.1 200 OK\"\n",
      "INFO:httpx:HTTP Request: POST https://api.openai.com/v1/embeddings \"HTTP/1.1 200 OK\"\n",
      "INFO:httpx:HTTP Request: POST https://api.openai.com/v1/embeddings \"HTTP/1.1 200 OK\"\n",
      "INFO:httpx:HTTP Request: POST https://api.groq.com/openai/v1/chat/completions \"HTTP/1.1 200 OK\"\n",
      "INFO:httpx:HTTP Request: POST https://api.openai.com/v1/embeddings \"HTTP/1.1 200 OK\"\n"
     ]
    },
    {
     "name": "stdout",
     "output_type": "stream",
     "text": [
      "Generating embedding for point: thinks the Government should address pay disparity between further education and higher education institutions to help further education colleges, such as Kingston Maurward college, recruit specialist staff\n",
      "Generating embedding for point: The Department for Work and Pensions should consider a scheme that allows for flexibility and individual cases for additional compensation\n",
      "Generating embedding for point: The warm home discount has been extended to 500,000 Scots, benefiting low-income households\n"
     ]
    },
    {
     "name": "stderr",
     "output_type": "stream",
     "text": [
      "INFO:httpx:HTTP Request: POST https://api.groq.com/openai/v1/chat/completions \"HTTP/1.1 200 OK\"\n",
      "INFO:httpx:HTTP Request: POST https://api.openai.com/v1/embeddings \"HTTP/1.1 200 OK\"\n",
      "INFO:httpx:HTTP Request: POST https://api.openai.com/v1/embeddings \"HTTP/1.1 200 OK\"\n",
      "INFO:httpx:HTTP Request: POST https://api.openai.com/v1/embeddings \"HTTP/1.1 200 OK\"\n",
      "INFO:httpx:HTTP Request: POST https://api.groq.com/openai/v1/chat/completions \"HTTP/1.1 200 OK\"\n",
      "INFO:httpx:HTTP Request: POST https://api.groq.com/openai/v1/chat/completions \"HTTP/1.1 200 OK\"\n"
     ]
    },
    {
     "name": "stdout",
     "output_type": "stream",
     "text": [
      "Generating embedding for point: prison officers need time to focus on rehabilitation work with offenders\n"
     ]
    },
    {
     "name": "stderr",
     "output_type": "stream",
     "text": [
      "INFO:httpx:HTTP Request: POST https://api.openai.com/v1/embeddings \"HTTP/1.1 200 OK\"\n"
     ]
    },
    {
     "name": "stdout",
     "output_type": "stream",
     "text": [
      "Generating embedding for point: reducing beer duty would be beneficial as pubs like The Grapes in Bath provide cultural events and community benefits that outweigh the potential loss in revenueGenerating embedding for point: Any scheme must be financially sustainable and responsible\n",
      "Generating embedding for point: SNP Government is weak on defence and denying job opportunities in Glasgow by banning investment in defence companies through the Scottish National Investment Bank and Scottish Enterprise\n",
      "\n",
      "Generating embedding for point: £8 million invested in technology to support probation staff\n"
     ]
    },
    {
     "name": "stderr",
     "output_type": "stream",
     "text": [
      "INFO:httpx:HTTP Request: POST https://api.openai.com/v1/embeddings \"HTTP/1.1 200 OK\"\n",
      "INFO:httpx:HTTP Request: POST https://api.openai.com/v1/embeddings \"HTTP/1.1 200 OK\"\n",
      "INFO:httpx:HTTP Request: POST https://api.openai.com/v1/embeddings \"HTTP/1.1 200 OK\"\n",
      "INFO:httpx:HTTP Request: POST https://api.groq.com/openai/v1/chat/completions \"HTTP/1.1 200 OK\"\n",
      "INFO:httpx:HTTP Request: POST https://api.openai.com/v1/embeddings \"HTTP/1.1 200 OK\"\n",
      "INFO:httpx:HTTP Request: POST https://api.groq.com/openai/v1/chat/completions \"HTTP/1.1 200 OK\"\n"
     ]
    },
    {
     "name": "stdout",
     "output_type": "stream",
     "text": [
      "Generating embedding for point: there is a £8,000 average pay gap between teachers in schools and further education colleges, which affects the ability to attract and retain teachers\n",
      "Generating embedding for point: believes the jobs tax has damaged business confidence and increased unemployment\n",
      "Generating embedding for point: aim to develop a sustainable work process for probation staff to focus on core work\n"
     ]
    },
    {
     "name": "stderr",
     "output_type": "stream",
     "text": [
      "INFO:httpx:HTTP Request: POST https://api.openai.com/v1/embeddings \"HTTP/1.1 200 OK\"\n",
      "INFO:httpx:HTTP Request: POST https://api.groq.com/openai/v1/chat/completions \"HTTP/1.1 200 OK\"\n",
      "INFO:httpx:HTTP Request: POST https://api.groq.com/openai/v1/chat/completions \"HTTP/1.1 200 OK\"\n",
      "INFO:httpx:HTTP Request: POST https://api.openai.com/v1/embeddings \"HTTP/1.1 200 OK\"\n",
      "INFO:httpx:HTTP Request: POST https://api.openai.com/v1/embeddings \"HTTP/1.1 200 OK\"\n",
      "INFO:httpx:HTTP Request: POST https://api.groq.com/openai/v1/chat/completions \"HTTP/1.1 200 OK\"\n"
     ]
    },
    {
     "name": "stdout",
     "output_type": "stream",
     "text": [
      "Generating embedding for point: SNP is blocking investment in a national specialist welding centre in Scotland, prioritising politics over job opportunities for young people\n",
      "Generating embedding for point: supports a small reduction in beer duty to grow the economy and deliver public community benefits\n",
      "Generating embedding for point: thinks the Budget has harmed the Scotch whisky industry\n"
     ]
    },
    {
     "name": "stderr",
     "output_type": "stream",
     "text": [
      "INFO:httpx:HTTP Request: POST https://api.groq.com/openai/v1/chat/completions \"HTTP/1.1 200 OK\"\n",
      "INFO:httpx:HTTP Request: POST https://api.openai.com/v1/embeddings \"HTTP/1.1 200 OK\"\n",
      "INFO:httpx:HTTP Request: POST https://api.groq.com/openai/v1/chat/completions \"HTTP/1.1 200 OK\"\n",
      "INFO:httpx:HTTP Request: POST https://api.openai.com/v1/embeddings \"HTTP/1.1 200 OK\"\n",
      "INFO:httpx:HTTP Request: POST https://api.groq.com/openai/v1/chat/completions \"HTTP/1.1 200 OK\"\n",
      "INFO:httpx:HTTP Request: POST https://api.openai.com/v1/embeddings \"HTTP/1.1 200 OK\"\n"
     ]
    },
    {
     "name": "stdout",
     "output_type": "stream",
     "text": [
      "Generating embedding for point: wants to know if restorative justice and opportunities for young people are being implemented consistently between Northern Ireland and the rest of the UK, following a positive experience at the probation office in Newtownards\n",
      "Generating embedding for point: thinks the spending review has harmed family farms\n",
      "Generating embedding for point: there is a £8,000 to £10,000 pay gap between FE lecturers and secondary education teachers\n",
      "Generating embedding for point: criticises the Government for ignoring industry calls to reduce beer duty despite its potential economic benefits\n",
      "Generating embedding for point: Labour will invest in the centre and create a defence dividend to bring jobs and opportunities to Scotland\n"
     ]
    },
    {
     "name": "stderr",
     "output_type": "stream",
     "text": [
      "INFO:httpx:HTTP Request: POST https://api.groq.com/openai/v1/chat/completions \"HTTP/1.1 200 OK\"\n",
      "INFO:httpx:HTTP Request: POST https://api.openai.com/v1/embeddings \"HTTP/1.1 200 OK\"\n",
      "INFO:httpx:HTTP Request: POST https://api.openai.com/v1/embeddings \"HTTP/1.1 200 OK\"\n",
      "INFO:httpx:HTTP Request: POST https://api.openai.com/v1/embeddings \"HTTP/1.1 200 OK\"\n",
      "INFO:httpx:HTTP Request: POST https://api.openai.com/v1/embeddings \"HTTP/1.1 200 OK\"\n",
      "INFO:httpx:HTTP Request: POST https://api.openai.com/v1/embeddings \"HTTP/1.1 200 OK\"\n"
     ]
    },
    {
     "name": "stdout",
     "output_type": "stream",
     "text": [
      "Generating embedding for point: WASPI women in Northern Ireland, including 7,000 in Strangford, feel mistreated and angry about the injustice of their state pension age and seek financial redress\n",
      "Generating embedding for point: thinks the government's policies have undermined the oil and gas industry\n",
      "Generating embedding for point: this pay gap needs to be addressed to retain and recruit FE staff, including at institutions like Suffolk New College\n"
     ]
    },
    {
     "name": "stderr",
     "output_type": "stream",
     "text": [
      "INFO:httpx:HTTP Request: POST https://api.openai.com/v1/embeddings \"HTTP/1.1 200 OK\"\n",
      "INFO:httpx:HTTP Request: POST https://api.groq.com/openai/v1/chat/completions \"HTTP/1.1 200 OK\"\n",
      "INFO:httpx:HTTP Request: POST https://api.openai.com/v1/embeddings \"HTTP/1.1 200 OK\"\n",
      "INFO:httpx:HTTP Request: POST https://api.groq.com/openai/v1/chat/completions \"HTTP/1.1 200 OK\"\n",
      "INFO:httpx:HTTP Request: POST https://api.groq.com/openai/v1/chat/completions \"HTTP/1.1 200 OK\"\n",
      "INFO:httpx:HTTP Request: POST https://api.openai.com/v1/embeddings \"HTTP/1.1 200 OK\"\n"
     ]
    },
    {
     "name": "stdout",
     "output_type": "stream",
     "text": [
      "Generating embedding for point: regular discussions are held in the five nations group to share good practice and address issues related to probation officers\n",
      "Generating embedding for point: criticizes the Scottish Secretary for not doing enough to attract foreign direct investment to Scotland, despite Scotland being a top destination for foreign direct investment, particularly in cities like Aberdeen, Glasgow, and Edinburgh\n",
      "Generating embedding for point: thinks Extended Producer Responsibility (EPR) is an attack on the hospitality sector, particularly microbusinesses, in addition to increases in business rates and national insurance contributions in areas like West Dorset\n",
      "Generating embedding for point: thinks the spending review does not support the hospitality sector in Scotland\n"
     ]
    },
    {
     "name": "stderr",
     "output_type": "stream",
     "text": [
      "INFO:httpx:HTTP Request: POST https://api.groq.com/openai/v1/chat/completions \"HTTP/1.1 200 OK\"\n",
      "INFO:httpx:HTTP Request: POST https://api.openai.com/v1/embeddings \"HTTP/1.1 200 OK\"\n",
      "INFO:httpx:HTTP Request: POST https://api.groq.com/openai/v1/chat/completions \"HTTP/1.1 200 OK\"\n",
      "INFO:httpx:HTTP Request: POST https://api.openai.com/v1/embeddings \"HTTP/1.1 200 OK\"\n",
      "INFO:httpx:HTTP Request: POST https://api.openai.com/v1/embeddings \"HTTP/1.1 200 OK\"\n",
      "INFO:httpx:HTTP Request: POST https://api.openai.com/v1/embeddings \"HTTP/1.1 200 OK\"\n"
     ]
    },
    {
     "name": "stdout",
     "output_type": "stream",
     "text": [
      "Generating embedding for point: The increase in state pension age has saved HM Treasury £181 billion, and alternative funding options exist, such as a wealth tax, equalising capital gains tax, or applying national insurance to investment income, to provide financial redress to 1950s-born women affected by the change\n",
      "Skipping contribution 44733758 - no member ID\n"
     ]
    },
    {
     "name": "stderr",
     "output_type": "stream",
     "text": [
      "INFO:httpx:HTTP Request: POST https://api.openai.com/v1/embeddings \"HTTP/1.1 200 OK\"\n"
     ]
    },
    {
     "name": "stdout",
     "output_type": "stream",
     "text": [
      "Generating embedding for point: Closing the pay gap for FE teachers is vital, particularly in vocational areas like construction, engineering and digital where they earn 11% less than industry peers\n",
      "Generating embedding for point: wants the Secretary of State and Chancellor to address these issues in Scotland\n",
      "Generating embedding for point: Cost should not be a barrier to providing justice for the women affected by the state pension age change, who have experienced trauma, hardship, poverty, and stress for over a decade\n",
      "Debate 0E297597-2A0C-4343-B370-3D40A42E20DC marked as analysed.\n",
      "329/336 debates left to analyse\n"
     ]
    },
    {
     "name": "stderr",
     "output_type": "stream",
     "text": [
      "INFO:httpx:HTTP Request: POST https://api.openai.com/v1/embeddings \"HTTP/1.1 200 OK\"\n",
      "INFO:httpx:HTTP Request: POST https://api.openai.com/v1/embeddings \"HTTP/1.1 200 OK\"\n",
      "INFO:httpx:HTTP Request: POST https://api.openai.com/v1/embeddings \"HTTP/1.1 200 OK\"\n",
      "INFO:httpx:HTTP Request: POST https://api.groq.com/openai/v1/chat/completions \"HTTP/1.1 200 OK\"\n",
      "INFO:httpx:HTTP Request: POST https://api.groq.com/openai/v1/chat/completions \"HTTP/1.1 200 OK\"\n"
     ]
    },
    {
     "name": "stdout",
     "output_type": "stream",
     "text": [
      "Generating embedding for point: Teacher shortages in further education need to be addressed through incentives for businesses to release staff and attract new teachers\n",
      "Skipping contribution 44793233 - no member ID\n",
      "Skipping contribution 3324034 - no member ID\n",
      "Generating embedding for point: The Minister should reconsider financial redress for 1950s-born women and allow parliamentary scrutiny of any proposals, as intended by the ombudsman, and engage with the affected women to find a solution\n",
      "Generating embedding for point: supports investing in Scotland's renewable energy sector to achieve clean energy by 2030\n",
      "Generating embedding for point: cutting beer duty would boost hospitality sector growth and increase tax receipts\n"
     ]
    },
    {
     "name": "stderr",
     "output_type": "stream",
     "text": [
      "INFO:httpx:HTTP Request: POST https://api.openai.com/v1/embeddings \"HTTP/1.1 200 OK\"\n",
      "INFO:httpx:HTTP Request: POST https://api.openai.com/v1/embeddings \"HTTP/1.1 200 OK\"\n",
      "INFO:httpx:HTTP Request: POST https://api.groq.com/openai/v1/chat/completions \"HTTP/1.1 200 OK\"\n",
      "INFO:httpx:HTTP Request: POST https://api.openai.com/v1/embeddings \"HTTP/1.1 200 OK\"\n",
      "INFO:httpx:HTTP Request: POST https://api.openai.com/v1/embeddings \"HTTP/1.1 200 OK\"\n"
     ]
    },
    {
     "name": "stdout",
     "output_type": "stream",
     "text": [
      "Generating embedding for point: Social mobility is a concern in the context of further education\n",
      "Skipping contribution 3309535 - no member ID\n"
     ]
    },
    {
     "name": "stderr",
     "output_type": "stream",
     "text": [
      "INFO:httpx:HTTP Request: POST https://api.groq.com/openai/v1/chat/completions \"HTTP/1.1 200 OK\"\n",
      "INFO:httpx:HTTP Request: POST https://api.openai.com/v1/embeddings \"HTTP/1.1 200 OK\"\n"
     ]
    },
    {
     "name": "stdout",
     "output_type": "stream",
     "text": [
      "Generating embedding for point: criticises voting against the Budget and the £14 billion extra for Scotland in the spending review\n",
      "Generating embedding for point: believes the national wealth fund and GB Energy can help capitalise this investment\n",
      "Generating embedding for point: lower beer prices would lead to higher sales and counteract the effects of the EPR policy\n",
      "Generating embedding for point: The Post Office is a cornerstone of British national life, providing essential services and acting as a lifeline to small businesses and rural communities\n"
     ]
    },
    {
     "name": "stderr",
     "output_type": "stream",
     "text": [
      "INFO:httpx:HTTP Request: POST https://api.openai.com/v1/embeddings \"HTTP/1.1 200 OK\"\n",
      "INFO:httpx:HTTP Request: POST https://api.openai.com/v1/embeddings \"HTTP/1.1 200 OK\"\n",
      "INFO:httpx:HTTP Request: POST https://api.openai.com/v1/embeddings \"HTTP/1.1 200 OK\"\n",
      "INFO:httpx:HTTP Request: POST https://api.groq.com/openai/v1/chat/completions \"HTTP/1.1 200 OK\"\n",
      "INFO:httpx:HTTP Request: POST https://api.openai.com/v1/embeddings \"HTTP/1.1 200 OK\"\n"
     ]
    },
    {
     "name": "stdout",
     "output_type": "stream",
     "text": [
      "Generating embedding for point: pubs are vital for communities, combating loneliness and supporting mental health\n",
      "Generating embedding for point: believes the Government's decisions have led to: highest growth in the G7, highest business confidence in a decade, record inward investment, three major trade deals and four interest rate cuts, benefiting businesses across the country\n"
     ]
    },
    {
     "name": "stderr",
     "output_type": "stream",
     "text": [
      "INFO:httpx:HTTP Request: POST https://api.groq.com/openai/v1/chat/completions \"HTTP/1.1 200 OK\"\n"
     ]
    },
    {
     "name": "stdout",
     "output_type": "stream",
     "text": [
      "Generating embedding for point: criticises the hon. Gentleman's party for voting against the national wealth fund and GB Energy\n",
      "Generating embedding for point: believes there has been an injustice regarding Women's State Pension Age\n",
      "Generating embedding for point: The Post Office faces significant challenges due to changing consumer habits, digital transition, and a changing economy\n"
     ]
    },
    {
     "name": "stderr",
     "output_type": "stream",
     "text": [
      "INFO:httpx:HTTP Request: POST https://api.openai.com/v1/embeddings \"HTTP/1.1 200 OK\"\n",
      "INFO:httpx:HTTP Request: POST https://api.openai.com/v1/embeddings \"HTTP/1.1 200 OK\"\n",
      "INFO:httpx:HTTP Request: POST https://api.openai.com/v1/embeddings \"HTTP/1.1 200 OK\"\n",
      "INFO:httpx:HTTP Request: POST https://api.openai.com/v1/embeddings \"HTTP/1.1 200 OK\"\n"
     ]
    },
    {
     "name": "stdout",
     "output_type": "stream",
     "text": [
      "Generating embedding for point: thinks areas without sixth-form or further education colleges, like Bolsover, should be a priority for Government support to improve social mobility and local young people's opportunities\n",
      "Generating embedding for point: 378 pubs are estimated to close in 2025, risking over 5,600 jobs, due to immense pressures on the industry\n"
     ]
    },
    {
     "name": "stderr",
     "output_type": "stream",
     "text": [
      "INFO:httpx:HTTP Request: POST https://api.openai.com/v1/embeddings \"HTTP/1.1 200 OK\"\n",
      "INFO:httpx:HTTP Request: POST https://api.openai.com/v1/embeddings \"HTTP/1.1 200 OK\"\n",
      "INFO:httpx:HTTP Request: POST https://api.openai.com/v1/embeddings \"HTTP/1.1 200 OK\"\n"
     ]
    },
    {
     "name": "stdout",
     "output_type": "stream",
     "text": [
      "Generating embedding for point: thinks the issue is about fairness and maintaining public faith in organisations like the Parliamentary and Health Service Ombudsman\n",
      "Generating embedding for point: The Government wants to strengthen the Post Office network, making it modern, resilient, and financially sustainable\n"
     ]
    },
    {
     "name": "stderr",
     "output_type": "stream",
     "text": [
      "INFO:httpx:HTTP Request: POST https://api.groq.com/openai/v1/chat/completions \"HTTP/1.1 200 OK\"\n",
      "INFO:httpx:HTTP Request: POST https://api.openai.com/v1/embeddings \"HTTP/1.1 200 OK\"\n",
      "INFO:httpx:HTTP Request: POST https://api.groq.com/openai/v1/chat/completions \"HTTP/1.1 200 OK\"\n",
      "INFO:httpx:HTTP Request: POST https://api.openai.com/v1/embeddings \"HTTP/1.1 200 OK\"\n",
      "INFO:httpx:HTTP Request: POST https://api.groq.com/openai/v1/chat/completions \"HTTP/1.1 200 OK\"\n",
      "INFO:httpx:HTTP Request: POST https://api.groq.com/openai/v1/chat/completions \"HTTP/1.1 200 OK\"\n"
     ]
    },
    {
     "name": "stdout",
     "output_type": "stream",
     "text": [
      "Generating embedding for point: Ferguson Marine securing a contract with BAE Systems is a positive development for the UK's maritime capability\n",
      "Generating embedding for point: The preferred approach is to maintain the overall size and shape of the Post Office network, minimizing the impact on communities\n",
      "Generating embedding for point: Improving further education can increase social mobility and address regional disparities across the UK, particularly in areas like Bolsover\n"
     ]
    },
    {
     "name": "stderr",
     "output_type": "stream",
     "text": [
      "INFO:httpx:HTTP Request: POST https://api.groq.com/openai/v1/chat/completions \"HTTP/1.1 200 OK\"\n",
      "INFO:httpx:HTTP Request: POST https://api.openai.com/v1/embeddings \"HTTP/1.1 200 OK\"\n"
     ]
    },
    {
     "name": "stdout",
     "output_type": "stream",
     "text": [
      "Generating embedding for point: supports changing the pub code to allow microbreweries to supply tied pubs\n"
     ]
    },
    {
     "name": "stderr",
     "output_type": "stream",
     "text": [
      "INFO:httpx:HTTP Request: POST https://api.openai.com/v1/embeddings \"HTTP/1.1 200 OK\"\n",
      "INFO:httpx:HTTP Request: POST https://api.openai.com/v1/embeddings \"HTTP/1.1 200 OK\"\n",
      "INFO:httpx:HTTP Request: POST https://api.groq.com/openai/v1/chat/completions \"HTTP/1.1 200 OK\"\n",
      "INFO:httpx:HTTP Request: POST https://api.openai.com/v1/embeddings \"HTTP/1.1 200 OK\"\n"
     ]
    },
    {
     "name": "stdout",
     "output_type": "stream",
     "text": [
      "Generating embedding for point: believes the government has betrayed the trust of WASPI women regarding their state pension age\n",
      "Generating embedding for point: criticises the SNP Government's approach to defence as 'student union politics'\n"
     ]
    },
    {
     "name": "stderr",
     "output_type": "stream",
     "text": [
      "INFO:httpx:HTTP Request: POST https://api.openai.com/v1/embeddings \"HTTP/1.1 200 OK\"\n",
      "INFO:httpx:HTTP Request: POST https://api.openai.com/v1/embeddings \"HTTP/1.1 200 OK\"\n"
     ]
    },
    {
     "name": "stdout",
     "output_type": "stream",
     "text": [
      "Generating embedding for point: The Post Office needs stability, which the Government is committed to providing, with over £500 million investment during this Parliament\n",
      "Generating embedding for point: concerned about job losses in the North Sea oil and gas industry in Scotland due to the industrial strategy\n",
      "Generating embedding for point: concerned about microbreweries' inability to supply tied pubs, specifically affecting businesses like the Crafty Monkey Brewing Co. in Hartlepool\n"
     ]
    },
    {
     "name": "stderr",
     "output_type": "stream",
     "text": [
      "INFO:httpx:HTTP Request: POST https://api.openai.com/v1/embeddings \"HTTP/1.1 200 OK\"\n",
      "INFO:httpx:HTTP Request: POST https://api.groq.com/openai/v1/chat/completions \"HTTP/1.1 200 OK\"\n"
     ]
    },
    {
     "name": "stdout",
     "output_type": "stream",
     "text": [
      "Generating embedding for point: believes the benefits of the spending review will be fully realised once the SNP is removed from power in Scotland\n"
     ]
    },
    {
     "name": "stderr",
     "output_type": "stream",
     "text": [
      "INFO:httpx:HTTP Request: POST https://api.openai.com/v1/embeddings \"HTTP/1.1 200 OK\"\n",
      "INFO:httpx:HTTP Request: POST https://api.openai.com/v1/embeddings \"HTTP/1.1 200 OK\"\n"
     ]
    },
    {
     "name": "stdout",
     "output_type": "stream",
     "text": [
      "Generating embedding for point: The Government aims to replace the Horizon system, which has been embedded in the Post Office network for over two decades, and end Fujitsu's involvement\n",
      "Generating embedding for point: expects the industrial strategy to replace tens of thousands of jobs set to be lost in the North Sea\n"
     ]
    },
    {
     "name": "stderr",
     "output_type": "stream",
     "text": [
      "INFO:httpx:HTTP Request: POST https://api.openai.com/v1/embeddings \"HTTP/1.1 200 OK\"\n",
      "INFO:httpx:HTTP Request: POST https://api.groq.com/openai/v1/chat/completions \"HTTP/1.1 200 OK\"\n",
      "INFO:httpx:HTTP Request: POST https://api.openai.com/v1/embeddings \"HTTP/1.1 200 OK\"\n",
      "INFO:httpx:HTTP Request: POST https://api.openai.com/v1/embeddings \"HTTP/1.1 200 OK\"\n",
      "INFO:httpx:HTTP Request: POST https://api.groq.com/openai/v1/chat/completions \"HTTP/1.1 200 OK\"\n"
     ]
    },
    {
     "name": "stdout",
     "output_type": "stream",
     "text": [
      "Generating embedding for point: there should be a parliamentary vote on a fair compensation scheme for WASPI women\n",
      "Generating embedding for point: The Post Office's transformation plan aims to achieve operational and financial stability by 2030, with a commitment to boost annual postmaster incomes by £250 million\n"
     ]
    },
    {
     "name": "stderr",
     "output_type": "stream",
     "text": [
      "INFO:httpx:HTTP Request: POST https://api.groq.com/openai/v1/chat/completions \"HTTP/1.1 200 OK\"\n",
      "INFO:httpx:HTTP Request: POST https://api.openai.com/v1/embeddings \"HTTP/1.1 200 OK\"\n",
      "INFO:httpx:HTTP Request: POST https://api.groq.com/openai/v1/chat/completions \"HTTP/1.1 200 OK\"\n",
      "INFO:httpx:HTTP Request: POST https://api.openai.com/v1/embeddings \"HTTP/1.1 200 OK\"\n",
      "INFO:httpx:HTTP Request: POST https://api.groq.com/openai/v1/chat/completions \"HTTP/1.1 200 OK\"\n",
      "INFO:httpx:HTTP Request: POST https://api.groq.com/openai/v1/chat/completions \"HTTP/1.1 200 OK\"\n"
     ]
    },
    {
     "name": "stdout",
     "output_type": "stream",
     "text": [
      "Generating embedding for point: concerned about the high rate of pub closures, with one pub closing every day\n",
      "Generating embedding for point: believes the UK defence industry supports jobs in Scotland, particularly at Ferguson Marine, unlike the Scottish GovernmentGenerating embedding for point: WASPI women feel ignored and sidelined by the Government\n",
      "\n",
      "Generating embedding for point: The Government is exploring options for further strengthening the Post Office's governance structures, including mutualisation and a charter model\n"
     ]
    },
    {
     "name": "stderr",
     "output_type": "stream",
     "text": [
      "INFO:httpx:HTTP Request: POST https://api.openai.com/v1/embeddings \"HTTP/1.1 200 OK\"\n"
     ]
    },
    {
     "name": "stdout",
     "output_type": "stream",
     "text": [
      "Generating embedding for point: Piper Alpha disaster is remembered and honoured on its 37th anniversary\n"
     ]
    },
    {
     "name": "stderr",
     "output_type": "stream",
     "text": [
      "INFO:httpx:HTTP Request: POST https://api.openai.com/v1/embeddings \"HTTP/1.1 200 OK\"\n",
      "INFO:httpx:HTTP Request: POST https://api.openai.com/v1/embeddings \"HTTP/1.1 200 OK\"\n"
     ]
    },
    {
     "name": "stdout",
     "output_type": "stream",
     "text": [
      "Generating embedding for point: UK has the second-highest beer duty in Europe, which increases prices for consumers and reduces investment\n"
     ]
    },
    {
     "name": "stderr",
     "output_type": "stream",
     "text": [
      "INFO:httpx:HTTP Request: POST https://api.groq.com/openai/v1/chat/completions \"HTTP/1.1 200 OK\"\n",
      "INFO:httpx:HTTP Request: POST https://api.openai.com/v1/embeddings \"HTTP/1.1 200 OK\"\n",
      "INFO:httpx:HTTP Request: POST https://api.openai.com/v1/embeddings \"HTTP/1.1 200 OK\"\n",
      "INFO:httpx:HTTP Request: POST https://api.openai.com/v1/embeddings \"HTTP/1.1 200 OK\"\n"
     ]
    },
    {
     "name": "stdout",
     "output_type": "stream",
     "text": [
      "Generating embedding for point: politicians should be held accountable for broken promises on women's state pension age\n",
      "Generating embedding for point: The Green Paper is an important step towards rebuilding trust in the Post Office and embedding a culture of transparency, accountability, and compassion\n",
      "Generating embedding for point: believes investment is needed in further education institutions, specifically Newcastle and Stafford Colleges Group, to address a 30% shortfall in places and increase social mobility\n",
      "Generating embedding for point: North Sea is considered the safest place for oil and gas due to post-Piper Alpha reforms\n"
     ]
    },
    {
     "name": "stderr",
     "output_type": "stream",
     "text": [
      "INFO:httpx:HTTP Request: POST https://api.openai.com/v1/embeddings \"HTTP/1.1 200 OK\"\n"
     ]
    },
    {
     "name": "stdout",
     "output_type": "stream",
     "text": [
      "Generating embedding for point: believes beer duty should be reduced to protect local pubs and breweries, support local jobs, and encourage investment in communities\n"
     ]
    },
    {
     "name": "stderr",
     "output_type": "stream",
     "text": [
      "INFO:httpx:HTTP Request: POST https://api.openai.com/v1/embeddings \"HTTP/1.1 200 OK\"\n",
      "INFO:httpx:HTTP Request: POST https://api.openai.com/v1/embeddings \"HTTP/1.1 200 OK\"\n",
      "INFO:httpx:HTTP Request: POST https://api.openai.com/v1/embeddings \"HTTP/1.1 200 OK\"\n",
      "INFO:httpx:HTTP Request: POST https://api.openai.com/v1/embeddings \"HTTP/1.1 200 OK\"\n"
     ]
    },
    {
     "name": "stdout",
     "output_type": "stream",
     "text": [
      "Generating embedding for point: Opposition party has rejected government initiatives for clean power by 2030\n",
      "Generating embedding for point: poverty among WASPI women is a concern, particularly in affluent areas like Harrogate and Knaresborough\n",
      "Generating embedding for point: thinks the UK should adopt a similar approach to countries like France and Germany, which have similar drinking traditions\n"
     ]
    },
    {
     "name": "stderr",
     "output_type": "stream",
     "text": [
      "INFO:httpx:HTTP Request: POST https://api.openai.com/v1/embeddings \"HTTP/1.1 200 OK\"\n",
      "INFO:httpx:HTTP Request: POST https://api.groq.com/openai/v1/chat/completions \"HTTP/1.1 200 OK\"\n",
      "INFO:httpx:HTTP Request: POST https://api.openai.com/v1/embeddings \"HTTP/1.1 200 OK\"\n",
      "INFO:httpx:HTTP Request: POST https://api.groq.com/openai/v1/chat/completions \"HTTP/1.1 200 OK\"\n"
     ]
    },
    {
     "name": "stdout",
     "output_type": "stream",
     "text": [
      "Skipping contribution 3324035 - no member ID\n",
      "Debate 105BB76E-8A2A-4EEF-8E3C-EA6D2CB84322 marked as analysed.\n",
      "328/336 debates left to analyse\n"
     ]
    },
    {
     "name": "stderr",
     "output_type": "stream",
     "text": [
      "INFO:httpx:HTTP Request: POST https://api.openai.com/v1/embeddings \"HTTP/1.1 200 OK\"\n"
     ]
    },
    {
     "name": "stdout",
     "output_type": "stream",
     "text": [
      "Generating embedding for point: reducing beer duty is an economic argument, but also about protecting British culture and helping with the cost of living\n",
      "Skipping contribution 44791974 - no member ID\n",
      "Skipping contribution 3323890 - no member ID\n",
      "Generating embedding for point: believes more capital and revenue funding is needed for Further Education Institutions\n",
      "Generating embedding for point: Criticism of opposition party's energy policy and previous Energy Minister\n"
     ]
    },
    {
     "name": "stderr",
     "output_type": "stream",
     "text": [
      "INFO:httpx:HTTP Request: POST https://api.openai.com/v1/embeddings \"HTTP/1.1 200 OK\"\n",
      "INFO:httpx:HTTP Request: POST https://api.openai.com/v1/embeddings \"HTTP/1.1 200 OK\"\n",
      "INFO:httpx:HTTP Request: POST https://api.groq.com/openai/v1/chat/completions \"HTTP/1.1 200 OK\"\n",
      "INFO:httpx:HTTP Request: POST https://api.openai.com/v1/embeddings \"HTTP/1.1 200 OK\"\n",
      "INFO:httpx:HTTP Request: POST https://api.groq.com/openai/v1/chat/completions \"HTTP/1.1 200 OK\"\n"
     ]
    },
    {
     "name": "stdout",
     "output_type": "stream",
     "text": [
      "Generating embedding for point: calls on the Minister to review beer duty to ensure it supports the economy and protects jobs\n",
      "Generating embedding for point: the Government should address the women's state pension age issue as a matter of justice and equality between men and women\n"
     ]
    },
    {
     "name": "stderr",
     "output_type": "stream",
     "text": [
      "INFO:httpx:HTTP Request: POST https://api.groq.com/openai/v1/chat/completions \"HTTP/1.1 200 OK\"\n",
      "INFO:httpx:HTTP Request: POST https://api.openai.com/v1/embeddings \"HTTP/1.1 200 OK\"\n"
     ]
    },
    {
     "name": "stdout",
     "output_type": "stream",
     "text": [
      "Generating embedding for point: The Post Office is a vital part of the UK's social and economic fabric, connecting communities and supporting local economies\n",
      "Skipping contribution 3318529 - no member ID\n",
      "Generating embedding for point: The UK remains united in support for Ukraine against Russian invasion\n"
     ]
    },
    {
     "name": "stderr",
     "output_type": "stream",
     "text": [
      "INFO:httpx:HTTP Request: POST https://api.openai.com/v1/embeddings \"HTTP/1.1 200 OK\"\n",
      "INFO:httpx:HTTP Request: POST https://api.groq.com/openai/v1/chat/completions \"HTTP/1.1 200 OK\"\n",
      "INFO:httpx:HTTP Request: POST https://api.openai.com/v1/embeddings \"HTTP/1.1 200 OK\"\n",
      "INFO:httpx:HTTP Request: POST https://api.openai.com/v1/embeddings \"HTTP/1.1 200 OK\"\n",
      "INFO:httpx:HTTP Request: POST https://api.groq.com/openai/v1/chat/completions \"HTTP/1.1 200 OK\"\n"
     ]
    },
    {
     "name": "stdout",
     "output_type": "stream",
     "text": [
      "Generating embedding for point: believes the Government must listen to women's concerns about the state pension age issue to tackle inequality\n"
     ]
    },
    {
     "name": "stderr",
     "output_type": "stream",
     "text": [
      "INFO:httpx:HTTP Request: POST https://api.groq.com/openai/v1/chat/completions \"HTTP/1.1 200 OK\"\n"
     ]
    },
    {
     "name": "stdout",
     "output_type": "stream",
     "text": [
      "Generating embedding for point: believes extending the pupil premium to further education colleges, such as Haywards Heath college, would improve their financial sustainability\n",
      "Generating embedding for point: The Post Office network plays a crucial role in delivering banking services, particularly in rural areas where traditional banks are closing\n"
     ]
    },
    {
     "name": "stderr",
     "output_type": "stream",
     "text": [
      "INFO:httpx:HTTP Request: POST https://api.openai.com/v1/embeddings \"HTTP/1.1 200 OK\"\n"
     ]
    },
    {
     "name": "stdout",
     "output_type": "stream",
     "text": [
      "Skipping contribution 44634640 - no member ID\n",
      "Generating embedding for point: Russia has maintained pressure on the frontline in Ukraine, with a focus on Sumy and Pokrovsk, but at great cost with over 1 million troops killed or wounded\n",
      "Generating embedding for point: Government's current strategy is leading to deindustrialisation in Scotland, particularly in the oil and gas industry\n"
     ]
    },
    {
     "name": "stderr",
     "output_type": "stream",
     "text": [
      "INFO:httpx:HTTP Request: POST https://api.openai.com/v1/embeddings \"HTTP/1.1 200 OK\"\n",
      "INFO:httpx:HTTP Request: POST https://api.openai.com/v1/embeddings \"HTTP/1.1 200 OK\"\n"
     ]
    },
    {
     "name": "stdout",
     "output_type": "stream",
     "text": [
      "Generating embedding for point: supports simplification of beer duty to recognise the role of pubs and small brewers\n",
      "Skipping contribution 44713793 - no member ID\n"
     ]
    },
    {
     "name": "stderr",
     "output_type": "stream",
     "text": [
      "INFO:httpx:HTTP Request: POST https://api.openai.com/v1/embeddings \"HTTP/1.1 200 OK\"\n"
     ]
    },
    {
     "name": "stdout",
     "output_type": "stream",
     "text": [
      "Generating embedding for point: The Government's Green Paper on the Post Office aims to reduce the taxpayer subsidy over time\n"
     ]
    },
    {
     "name": "stderr",
     "output_type": "stream",
     "text": [
      "INFO:httpx:HTTP Request: POST https://api.groq.com/openai/v1/chat/completions \"HTTP/1.1 200 OK\"\n",
      "INFO:httpx:HTTP Request: POST https://api.openai.com/v1/embeddings \"HTTP/1.1 200 OK\"\n",
      "INFO:httpx:HTTP Request: POST https://api.openai.com/v1/embeddings \"HTTP/1.1 200 OK\"\n",
      "INFO:httpx:HTTP Request: POST https://api.openai.com/v1/embeddings \"HTTP/1.1 200 OK\"\n",
      "INFO:httpx:HTTP Request: POST https://api.groq.com/openai/v1/chat/completions \"HTTP/1.1 200 OK\"\n"
     ]
    },
    {
     "name": "stdout",
     "output_type": "stream",
     "text": [
      "Generating embedding for point: The UK is providing £4.5 billion in military aid to Ukraine this year, including artillery shells, long-range rockets, and air defence missiles\n",
      "Generating embedding for point: believes the system has failed women affected by the state pension age change, who have suffered financially due to lack of notification\n",
      "Generating embedding for point: The Post Office faces increased costs, including a £45 million hike in national insurance and a 140% increase in business rates for eligible post offices\n",
      "Generating embedding for point: 400 jobs are being lost in the North sea every two weeks\n",
      "Generating embedding for point: Further Education (FE) institutions play a crucial role in widening participation for disadvantaged learners through flexible schedules and tailored support services\n",
      "Generating embedding for point: believes draught relief gives pubs a competitive edge and encourages sale of lower-strength beer\n"
     ]
    },
    {
     "name": "stderr",
     "output_type": "stream",
     "text": [
      "INFO:httpx:HTTP Request: POST https://api.openai.com/v1/embeddings \"HTTP/1.1 200 OK\"\n",
      "INFO:httpx:HTTP Request: POST https://api.openai.com/v1/embeddings \"HTTP/1.1 200 OK\"\n",
      "INFO:httpx:HTTP Request: POST https://api.openai.com/v1/embeddings \"HTTP/1.1 200 OK\"\n",
      "INFO:httpx:HTTP Request: POST https://api.openai.com/v1/embeddings \"HTTP/1.1 200 OK\"\n",
      "INFO:httpx:HTTP Request: POST https://api.openai.com/v1/embeddings \"HTTP/1.1 200 OK\"\n"
     ]
    },
    {
     "name": "stdout",
     "output_type": "stream",
     "text": [
      "Generating embedding for point: thinks the ombudsman's finding of maladministration should lead to change and compensation for those affected\n"
     ]
    },
    {
     "name": "stderr",
     "output_type": "stream",
     "text": [
      "INFO:httpx:HTTP Request: POST https://api.openai.com/v1/embeddings \"HTTP/1.1 200 OK\"\n"
     ]
    },
    {
     "name": "stdout",
     "output_type": "stream",
     "text": [
      "Generating embedding for point: The UK and other nations are committed to supporting Ukraine with security assistance, including a new investment pledge to spend 5% of GDP on defence and national security by 2035\n"
     ]
    },
    {
     "name": "stderr",
     "output_type": "stream",
     "text": [
      "INFO:httpx:HTTP Request: POST https://api.openai.com/v1/embeddings \"HTTP/1.1 200 OK\"\n"
     ]
    },
    {
     "name": "stdout",
     "output_type": "stream",
     "text": [
      "Generating embedding for point: The Minister has committed to maintaining the size of the Post Office network, with 11,500 outlets, but it is unclear if this commitment will be upheld\n",
      "Generating embedding for point: supports freezes and cuts to beer duty to promote responsible consumption\n",
      "Generating embedding for point: FE colleges support diverse ethnic backgrounds and students with special educational needs and disabilities\n",
      "Skipping contribution 3309536 - no member ID\n"
     ]
    },
    {
     "name": "stderr",
     "output_type": "stream",
     "text": [
      "INFO:httpx:HTTP Request: POST https://api.openai.com/v1/embeddings \"HTTP/1.1 200 OK\"\n"
     ]
    },
    {
     "name": "stdout",
     "output_type": "stream",
     "text": [
      "Generating embedding for point: calls for the removal of the energy profits levy and overturn of the ban on licences to support the oil and gas industry in Scotland\n"
     ]
    },
    {
     "name": "stderr",
     "output_type": "stream",
     "text": [
      "INFO:httpx:HTTP Request: POST https://api.openai.com/v1/embeddings \"HTTP/1.1 200 OK\"\n",
      "INFO:httpx:HTTP Request: POST https://api.openai.com/v1/embeddings \"HTTP/1.1 200 OK\"\n",
      "INFO:httpx:HTTP Request: POST https://api.openai.com/v1/embeddings \"HTTP/1.1 200 OK\"\n"
     ]
    },
    {
     "name": "stdout",
     "output_type": "stream",
     "text": [
      "Generating embedding for point: The UK backs the NATO scheme to provide Ukraine with advanced military equipment, including Patriot missiles and other air defence systems\n"
     ]
    },
    {
     "name": "stderr",
     "output_type": "stream",
     "text": [
      "INFO:httpx:HTTP Request: POST https://api.openai.com/v1/embeddings \"HTTP/1.1 200 OK\"\n",
      "INFO:httpx:HTTP Request: POST https://api.openai.com/v1/embeddings \"HTTP/1.1 200 OK\"\n"
     ]
    },
    {
     "name": "stdout",
     "output_type": "stream",
     "text": [
      "Generating embedding for point: There are concerns that reducing the branch requirement could lead to the closure of one in five post offices, which would disproportionately affect rural areas\n",
      "Generating embedding for point: credits the previous Government for scrapping the beer duty escalator\n",
      "Generating embedding for point: 30% of college enrolments are from the most deprived postcodes, highlighting the importance of FE in supporting disadvantaged areas\n",
      "Generating embedding for point: believes the Government should prioritise maximum economic recovery from the North sea to generate energy, revenue and jobs in Scotland\n"
     ]
    },
    {
     "name": "stderr",
     "output_type": "stream",
     "text": [
      "INFO:httpx:HTTP Request: POST https://api.groq.com/openai/v1/chat/completions \"HTTP/1.1 200 OK\"\n",
      "INFO:httpx:HTTP Request: POST https://api.openai.com/v1/embeddings \"HTTP/1.1 200 OK\"\n"
     ]
    },
    {
     "name": "stdout",
     "output_type": "stream",
     "text": [
      "Generating embedding for point: The UK is working with other nations to plan for a potential ceasefire in Ukraine, including the development of a Multinational Force Ukraine to strengthen Ukraine's defences\n",
      "Generating embedding for point: believes there is an injustice in the notification of state pension age changes for women\n"
     ]
    },
    {
     "name": "stderr",
     "output_type": "stream",
     "text": [
      "INFO:httpx:HTTP Request: POST https://api.openai.com/v1/embeddings \"HTTP/1.1 200 OK\"\n",
      "INFO:httpx:HTTP Request: POST https://api.openai.com/v1/embeddings \"HTTP/1.1 200 OK\"\n",
      "INFO:httpx:HTTP Request: POST https://api.openai.com/v1/embeddings \"HTTP/1.1 200 OK\"\n",
      "INFO:httpx:HTTP Request: POST https://api.openai.com/v1/embeddings \"HTTP/1.1 200 OK\"\n",
      "INFO:httpx:HTTP Request: POST https://api.openai.com/v1/embeddings \"HTTP/1.1 200 OK\"\n"
     ]
    },
    {
     "name": "stdout",
     "output_type": "stream",
     "text": [
      "Generating embedding for point: Rural post offices, which are often the last shop in the village, should not be closed and replaced with city centre branches\n",
      "Generating embedding for point: supports a post-Brexit strength-based alcohol duty system to promote responsible consumption and fairness for pubs\n",
      "Generating embedding for point: Only 39% of FE college students who complete level 3 courses go on to higher education, compared to 60% from state school sixth forms\n",
      "Generating embedding for point: thinks compensation would not have been paid if there was no injustice\n",
      "Generating embedding for point: The UK will continue to stand with the Ukrainian people in their fight for freedom and security against Russian aggression\n"
     ]
    },
    {
     "name": "stderr",
     "output_type": "stream",
     "text": [
      "INFO:httpx:HTTP Request: POST https://api.openai.com/v1/embeddings \"HTTP/1.1 200 OK\"\n",
      "INFO:httpx:HTTP Request: POST https://api.openai.com/v1/embeddings \"HTTP/1.1 200 OK\"\n",
      "INFO:httpx:HTTP Request: POST https://api.openai.com/v1/embeddings \"HTTP/1.1 200 OK\"\n",
      "INFO:httpx:HTTP Request: POST https://api.openai.com/v1/embeddings \"HTTP/1.1 200 OK\"\n",
      "INFO:httpx:HTTP Request: POST https://api.openai.com/v1/embeddings \"HTTP/1.1 200 OK\"\n",
      "INFO:httpx:HTTP Request: POST https://api.groq.com/openai/v1/chat/completions \"HTTP/1.1 200 OK\"\n"
     ]
    },
    {
     "name": "stdout",
     "output_type": "stream",
     "text": [
      "Generating embedding for point: The Post Office should negotiate a better and more long-term agreement with banks to provide financial support\n",
      "Generating embedding for point: Government should increase opportunities for FE students to access higher skilled work and degree-level apprenticeships\n",
      "Generating embedding for point: expects redress for women affected by state pension age changes as recommended by the ombudsman\n",
      "Generating embedding for point: supports a just transition in the North Sea to protect jobs and achieve clean power by 2030\n"
     ]
    },
    {
     "name": "stderr",
     "output_type": "stream",
     "text": [
      "INFO:httpx:HTTP Request: POST https://api.openai.com/v1/embeddings \"HTTP/1.1 200 OK\"\n",
      "INFO:httpx:HTTP Request: POST https://api.groq.com/openai/v1/chat/completions \"HTTP/1.1 200 OK\"\n",
      "INFO:httpx:HTTP Request: POST https://api.openai.com/v1/embeddings \"HTTP/1.1 200 OK\"\n",
      "INFO:httpx:HTTP Request: POST https://api.groq.com/openai/v1/chat/completions \"HTTP/1.1 200 OK\"\n"
     ]
    },
    {
     "name": "stdout",
     "output_type": "stream",
     "text": [
      "Skipping contribution 3323891 - no member ID\n"
     ]
    },
    {
     "name": "stderr",
     "output_type": "stream",
     "text": [
      "INFO:httpx:HTTP Request: POST https://api.openai.com/v1/embeddings \"HTTP/1.1 200 OK\"\n",
      "INFO:httpx:HTTP Request: POST https://api.openai.com/v1/embeddings \"HTTP/1.1 200 OK\"\n"
     ]
    },
    {
     "name": "stdout",
     "output_type": "stream",
     "text": [
      "Generating embedding for point: believes beer duty disproportionately affects small venues and brewers\n",
      "Generating embedding for point: FE colleges are vital to the UK's educational landscape and should be supported in helping disadvantaged children access higher skilled work\n",
      "Generating embedding for point: believes the transition should prioritize protecting existing jobs in the North Sea\n",
      "Generating embedding for point: questions the Government's selective implementation of ombudsman recommendations\n",
      "Generating embedding for point: The Government should consider compensating postmasters who were wrongly accused over the Horizon system, with Fujitsu contributing to the estimated £2 billion cost\n"
     ]
    },
    {
     "name": "stderr",
     "output_type": "stream",
     "text": [
      "INFO:httpx:HTTP Request: POST https://api.openai.com/v1/embeddings \"HTTP/1.1 200 OK\"\n",
      "INFO:httpx:HTTP Request: POST https://api.openai.com/v1/embeddings \"HTTP/1.1 200 OK\"\n",
      "INFO:httpx:HTTP Request: POST https://api.openai.com/v1/embeddings \"HTTP/1.1 200 OK\"\n",
      "INFO:httpx:HTTP Request: POST https://api.openai.com/v1/embeddings \"HTTP/1.1 200 OK\"\n",
      "INFO:httpx:HTTP Request: POST https://api.openai.com/v1/embeddings \"HTTP/1.1 200 OK\"\n",
      "INFO:httpx:HTTP Request: POST https://api.groq.com/openai/v1/chat/completions \"HTTP/1.1 200 OK\"\n"
     ]
    },
    {
     "name": "stdout",
     "output_type": "stream",
     "text": [
      "Generating embedding for point: seeks clarification on the 90% awareness figure used by the Government regarding impacted women\n",
      "Generating embedding for point: The idea of Post Office mutualisation has been delayed, but a pilot scheme could be considered during this Parliament\n",
      "Generating embedding for point: Russia's ongoing aggression in Ukraine is a concern, with no let-up in attacks and significant civilian casualties\n"
     ]
    },
    {
     "name": "stderr",
     "output_type": "stream",
     "text": [
      "INFO:httpx:HTTP Request: POST https://api.groq.com/openai/v1/chat/completions \"HTTP/1.1 200 OK\"\n",
      "INFO:httpx:HTTP Request: POST https://api.groq.com/openai/v1/chat/completions \"HTTP/1.1 200 OK\"\n"
     ]
    },
    {
     "name": "stdout",
     "output_type": "stream",
     "text": [
      "Generating embedding for point: believes a 20% budget cut to Fife College by the SNP Scottish Government is unacceptable\n",
      "Generating embedding for point: Government should not use beer duty as a revenue raiser to fill the budget gap\n"
     ]
    },
    {
     "name": "stderr",
     "output_type": "stream",
     "text": [
      "INFO:httpx:HTTP Request: POST https://api.openai.com/v1/embeddings \"HTTP/1.1 200 OK\"\n",
      "INFO:httpx:HTTP Request: POST https://api.openai.com/v1/embeddings \"HTTP/1.1 200 OK\"\n",
      "INFO:httpx:HTTP Request: POST https://api.openai.com/v1/embeddings \"HTTP/1.1 200 OK\"\n",
      "INFO:httpx:HTTP Request: POST https://api.openai.com/v1/embeddings \"HTTP/1.1 200 OK\"\n"
     ]
    },
    {
     "name": "stdout",
     "output_type": "stream",
     "text": [
      "Generating embedding for point: wants to know if the decision not to fully implement ombudsman recommendations is based on cost or disagreement with the findings, specifically regarding the Department for Work and Pensions\n",
      "Generating embedding for point: The UK should continue to provide decisive assistance to Ukraine, including military hardware and support\n"
     ]
    },
    {
     "name": "stderr",
     "output_type": "stream",
     "text": [
      "INFO:httpx:HTTP Request: POST https://api.openai.com/v1/embeddings \"HTTP/1.1 200 OK\"\n"
     ]
    },
    {
     "name": "stdout",
     "output_type": "stream",
     "text": [
      "Debate 0F8FCEF8-E7B1-4CFD-B057-0BA72908642D marked as analysed.\n",
      "Generating embedding for point: Concerned that beer duty rise in line with the retail prices index will harm pubs, hospitality and brewing\n",
      "Generating embedding for point: thinks people in Cowdenbeath and Kirkcaldy deserve the same opportunities to learn new skills as those in Glasgow, Aberdeen, and Edinburgh\n"
     ]
    },
    {
     "name": "stderr",
     "output_type": "stream",
     "text": [
      "INFO:httpx:HTTP Request: POST https://api.openai.com/v1/embeddings \"HTTP/1.1 200 OK\"\n",
      "INFO:httpx:HTTP Request: POST https://api.openai.com/v1/embeddings \"HTTP/1.1 200 OK\"\n"
     ]
    },
    {
     "name": "stdout",
     "output_type": "stream",
     "text": [
      "Skipping contribution 3309537 - no member ID\n",
      "Generating embedding for point: The UK should consider purchasing military equipment from the US to pass on to Ukraine\n"
     ]
    },
    {
     "name": "stderr",
     "output_type": "stream",
     "text": [
      "INFO:httpx:HTTP Request: POST https://api.openai.com/v1/embeddings \"HTTP/1.1 200 OK\"\n",
      "INFO:httpx:HTTP Request: POST https://api.openai.com/v1/embeddings \"HTTP/1.1 200 OK\"\n",
      "INFO:httpx:HTTP Request: POST https://api.groq.com/openai/v1/chat/completions \"HTTP/1.1 200 OK\"\n",
      "INFO:httpx:HTTP Request: POST https://api.openai.com/v1/embeddings \"HTTP/1.1 200 OK\"\n"
     ]
    },
    {
     "name": "stdout",
     "output_type": "stream",
     "text": [
      "Generating embedding for point: Automatic uprating of beer duty every year would be a betrayal of the brewing industry and consumers\n",
      "Generating embedding for point: The Post Office network is vital to the UK's economic and social fabric and the government is determined to strengthen it\n"
     ]
    },
    {
     "name": "stderr",
     "output_type": "stream",
     "text": [
      "INFO:httpx:HTTP Request: POST https://api.groq.com/openai/v1/chat/completions \"HTTP/1.1 200 OK\"\n",
      "INFO:httpx:HTTP Request: POST https://api.groq.com/openai/v1/chat/completions \"HTTP/1.1 200 OK\"\n"
     ]
    },
    {
     "name": "stdout",
     "output_type": "stream",
     "text": [
      "Generating embedding for point: The imposition of secondary sanctions on nations buying oil and gas from Russia could help end the war\n",
      "Generating embedding for point: concerned about the impact of increasing the qualifying period for settlement on NHS staffing levels\n",
      "Generating embedding for point: believes the Department for Work and Pensions resists the WASPI women's cause due to the large number of claimants and high associated costs, despite acknowledging the justice of their case\n"
     ]
    },
    {
     "name": "stderr",
     "output_type": "stream",
     "text": [
      "INFO:httpx:HTTP Request: POST https://api.openai.com/v1/embeddings \"HTTP/1.1 200 OK\"\n",
      "INFO:httpx:HTTP Request: POST https://api.openai.com/v1/embeddings \"HTTP/1.1 200 OK\"\n",
      "INFO:httpx:HTTP Request: POST https://api.groq.com/openai/v1/chat/completions \"HTTP/1.1 200 OK\"\n",
      "INFO:httpx:HTTP Request: POST https://api.openai.com/v1/embeddings \"HTTP/1.1 200 OK\"\n"
     ]
    },
    {
     "name": "stdout",
     "output_type": "stream",
     "text": [
      "Generating embedding for point: Opposes potential review to scale back benefits of draft beer duty rate\n"
     ]
    },
    {
     "name": "stderr",
     "output_type": "stream",
     "text": [
      "INFO:httpx:HTTP Request: POST https://api.openai.com/v1/embeddings \"HTTP/1.1 200 OK\"\n",
      "INFO:httpx:HTTP Request: POST https://api.openai.com/v1/embeddings \"HTTP/1.1 200 OK\"\n"
     ]
    },
    {
     "name": "stdout",
     "output_type": "stream",
     "text": [
      "Generating embedding for point: believes further education colleges are vital for vocational training, apprenticeships, and addressing skills gaps\n",
      "Generating embedding for point: Banking services are crucial to the future of the Post Office and the government wants to improve collaboration between the Post Office and banks\n",
      "Generating embedding for point: The UK should join in any secondary sanctions policy directed against countries importing Russian oil and gas\n",
      "Generating embedding for point: thinks the government is prioritising cost over fairness for women affected by the change in state pension age\n"
     ]
    },
    {
     "name": "stderr",
     "output_type": "stream",
     "text": [
      "INFO:httpx:HTTP Request: POST https://api.openai.com/v1/embeddings \"HTTP/1.1 200 OK\"\n",
      "INFO:httpx:HTTP Request: POST https://api.openai.com/v1/embeddings \"HTTP/1.1 200 OK\"\n",
      "INFO:httpx:HTTP Request: POST https://api.openai.com/v1/embeddings \"HTTP/1.1 200 OK\"\n",
      "INFO:httpx:HTTP Request: POST https://api.openai.com/v1/embeddings \"HTTP/1.1 200 OK\"\n"
     ]
    }
   ],
   "source": [
    "import sys\n",
    "import os\n",
    "import logging\n",
    "logging.getLogger('httpx').setLevel(logging.WARNING)\n",
    "\n",
    "from modules.points.generate import generate_points\n",
    "generate_points(filters={\"start_date\": \"2025-06-01\", \"end_date\": \"2025-08-01\"})"
   ]
  },
  {
   "cell_type": "code",
   "execution_count": null,
   "id": "4844b65a",
   "metadata": {},
   "outputs": [],
   "source": []
  },
  {
   "cell_type": "code",
   "execution_count": 5,
   "id": "e20e8246",
   "metadata": {},
   "outputs": [],
   "source": [
    "import numpy as np\n",
    "from psycopg2.extras import execute_values\n",
    "\n",
    "def to_fp16_bytes(x32, dims=256):\n",
    "    return np.asarray(x32, dtype=np.float32)[:dims].astype(np.float16).tobytes()\n",
    "\n",
    "def backfill_emb256_f16(conn, dims=256, batch=5000):\n",
    "    with conn, conn.cursor(name=\"full_vectors\") as rcur:\n",
    "        rcur.itersize = batch\n",
    "        rcur.execute(\"\"\"\n",
    "            SELECT point_id, (point_embedding::real[]) AS emb\n",
    "            FROM point\n",
    "            WHERE point_embedding IS NOT NULL AND emb256_f16 IS NULL\n",
    "        \"\"\")\n",
    "        buf = []\n",
    "        with conn.cursor() as wcur:\n",
    "            for rows in iter(lambda: rcur.fetchmany(batch), []):\n",
    "                for pid, emb in rows:\n",
    "                    buf.append((pid, to_fp16_bytes(emb, dims)))\n",
    "                execute_values(\n",
    "                    wcur,\n",
    "                    \"\"\"\n",
    "                    UPDATE point AS p\n",
    "                    SET emb256_f16 = data.emb\n",
    "                    FROM (VALUES %s) AS data(point_id, emb)\n",
    "                    WHERE p.point_id = data.point_id\n",
    "                    \"\"\",\n",
    "                    buf,\n",
    "                    template=\"(%s,%s)\"\n",
    "                )\n",
    "                buf.clear()\n"
   ]
  },
  {
   "cell_type": "code",
   "execution_count": 6,
   "id": "5ca93b2e",
   "metadata": {},
   "outputs": [],
   "source": [
    "backfill_emb256_f16(get_db_connection())"
   ]
  },
  {
   "cell_type": "code",
   "execution_count": null,
   "id": "fe9d1340",
   "metadata": {},
   "outputs": [],
   "source": [
    "import psycopg2\n",
    "from typing import Dict\n",
    "import base64, json\n",
    "\n",
    "def get_db_connection():\n",
    "    return psycopg2.connect(\n",
    "        host=\"localhost\",\n",
    "        database=\"parliament\",\n",
    "        user=\"parliament_user\",\n",
    "        password=\"parliament_pass\",\n",
    "        port=5432\n",
    "    )\n",
    "\n",
    "def create_cluster_jobs_and_clusters_tables():\n",
    "    conn = get_db_connection()\n",
    "    cur = conn.cursor()\n",
    "    # Create cluster_jobs table\n",
    "    cur.execute(\"\"\"\n",
    "    CREATE TABLE IF NOT EXISTS cluster_jobs (\n",
    "      job_id        BIGSERIAL PRIMARY KEY,\n",
    "      status        TEXT NOT NULL CHECK (status IN ('queued','running','complete','failed','canceled')),\n",
    "      root_cluster_id INTEGER REFERENCES clusters(cluster_id) ON DELETE SET NULL,\n",
    "      params        JSONB NOT NULL,\n",
    "      created_at    TIMESTAMPTZ NOT NULL DEFAULT now(),\n",
    "      started_at    TIMESTAMPTZ,\n",
    "      finished_at   TIMESTAMPTZ,\n",
    "      error         TEXT\n",
    "    );\n",
    "    \"\"\")\n",
    "    # Add job_id and visible columns to clusters table if not exist\n",
    "    cur.execute(\"\"\"\n",
    "    ALTER TABLE clusters\n",
    "    ADD COLUMN IF NOT EXISTS job_id BIGINT REFERENCES cluster_jobs(job_id);\n",
    "    \"\"\")\n",
    "    cur.execute(\"\"\"\n",
    "    ALTER TABLE clusters\n",
    "    ADD COLUMN IF NOT EXISTS visible BOOLEAN NOT NULL DEFAULT FALSE;\n",
    "    \"\"\")\n",
    "    conn.commit()\n",
    "    cur.close()\n",
    "    conn.close()\n",
    "\n",
    "create_cluster_jobs_and_clusters_tables()"
   ]
  }
 ],
 "metadata": {
  "kernelspec": {
   "display_name": ".venv",
   "language": "python",
   "name": "python3"
  },
  "language_info": {
   "codemirror_mode": {
    "name": "ipython",
    "version": 3
   },
   "file_extension": ".py",
   "mimetype": "text/x-python",
   "name": "python",
   "nbconvert_exporter": "python",
   "pygments_lexer": "ipython3",
   "version": "3.13.5"
  }
 },
 "nbformat": 4,
 "nbformat_minor": 5
}
