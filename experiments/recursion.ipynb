{
 "cells": [
  {
   "cell_type": "code",
   "execution_count": 5,
   "id": "945fc032",
   "metadata": {},
   "outputs": [
    {
     "name": "stdout",
     "output_type": "stream",
     "text": [
      "[(0, [(0, [(0, [1]), (1, [1]), (2, [1]), 1]), (1, [(0, [1]), (1, [1]), (2, [1]), 1]), 1]), 1]\n",
      "(0, [(0, [(0, [1]), (1, [1]), (2, [1]), 1]), (1, [(0, [1]), (1, [1]), (2, [1]), 1]), 1])\n",
      "1\n"
     ]
    }
   ],
   "source": [
    "number = 1\n",
    "current_depth = 0\n",
    "depth = 3\n",
    "# Want.  alist that looks like [1, [[2 , [[3, []], [3, []], [3, []] ]], [2, [...]], [2, [...]]]]\n",
    "def recursive_files(number, depth, current_depth=0):\n",
    "    level_list = []\n",
    "    if current_depth < depth:\n",
    "        next_depth = current_depth + 1\n",
    "        for i in range(0,next_depth):\n",
    "            level_list.append((i, recursive_files(number, depth, next_depth)))\n",
    "    level_list.append(number)\n",
    "    return(level_list)\n",
    "\n",
    "recursed_list = recursive_files(number, depth)\n",
    "print(recursed_list)\n",
    "for i in recursed_list:\n",
    "    print(i)"
   ]
  },
  {
   "cell_type": "code",
   "execution_count": 9,
   "id": "4bb31fb8",
   "metadata": {},
   "outputs": [
    {
     "name": "stdout",
     "output_type": "stream",
     "text": [
      "✅ Clustering tables and indexes created successfully!\n"
     ]
    }
   ],
   "source": [
    "import sys\n",
    "sys.path.append('/Users/jreid/Library/CloudStorage/Dropbox/programming/Projects/common_place')\n",
    "from backend.src.modules.utils.database_utils import get_db_connection\n",
    "\n",
    "def add_clustering_tables():\n",
    "    conn = get_db_connection()\n",
    "    cursor = conn.cursor()\n",
    "    \n",
    "    try:\n",
    "        # Create clusters table\n",
    "        cursor.execute(\"\"\"\n",
    "            CREATE TABLE clusters (\n",
    "                cluster_id SERIAL PRIMARY KEY,\n",
    "                parent_cluster_id INTEGER REFERENCES clusters(cluster_id),\n",
    "                title VARCHAR(255),\n",
    "                summary TEXT,\n",
    "                layer INTEGER,\n",
    "                created_at TIMESTAMPTZ DEFAULT NOW(),\n",
    "                filters_used JSONB\n",
    "            );\n",
    "        \"\"\")\n",
    "        \n",
    "        # Create cluster_points table\n",
    "        cursor.execute(\"\"\"\n",
    "            CREATE TABLE cluster_points (\n",
    "                cluster_id INTEGER REFERENCES clusters(cluster_id) ON DELETE CASCADE,\n",
    "                point_id BIGINT REFERENCES point(point_id) ON DELETE CASCADE,\n",
    "                PRIMARY KEY (cluster_id, point_id)\n",
    "            );\n",
    "        \"\"\")\n",
    "        \n",
    "        # Add indexes\n",
    "        indexes = [\n",
    "            \"CREATE INDEX idx_clusters_parent ON clusters(parent_cluster_id);\",\n",
    "            \"CREATE INDEX idx_clusters_layer ON clusters(layer);\",\n",
    "            \"CREATE INDEX idx_cluster_points_cluster ON cluster_points(cluster_id);\",\n",
    "            \"CREATE INDEX idx_cluster_points_point ON cluster_points(point_id);\"\n",
    "        ]\n",
    "        \n",
    "        for index_sql in indexes:\n",
    "            cursor.execute(index_sql)\n",
    "        \n",
    "        conn.commit()\n",
    "        print(\"✅ Clustering tables and indexes created successfully!\")\n",
    "        \n",
    "    except Exception as e:\n",
    "        conn.rollback()\n",
    "        print(f\"❌ Error creating tables: {e}\")\n",
    "        \n",
    "    finally:\n",
    "        cursor.close()\n",
    "        conn.close()\n",
    "\n",
    "if __name__ == \"__main__\":\n",
    "    add_clustering_tables()"
   ]
  }
 ],
 "metadata": {
  "kernelspec": {
   "display_name": ".venv",
   "language": "python",
   "name": "python3"
  },
  "language_info": {
   "codemirror_mode": {
    "name": "ipython",
    "version": 3
   },
   "file_extension": ".py",
   "mimetype": "text/x-python",
   "name": "python",
   "nbconvert_exporter": "python",
   "pygments_lexer": "ipython3",
   "version": "3.13.5"
  }
 },
 "nbformat": 4,
 "nbformat_minor": 5
}
